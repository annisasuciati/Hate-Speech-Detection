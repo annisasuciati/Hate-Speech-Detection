{
  "nbformat": 4,
  "nbformat_minor": 0,
  "metadata": {
    "colab": {
      "name": "Hate Speech Detection.ipynb",
      "provenance": [],
      "collapsed_sections": [],
      "authorship_tag": "ABX9TyNMaIOSGy+CXGNwxTmxavZz",
      "include_colab_link": true
    },
    "kernelspec": {
      "name": "python3",
      "display_name": "Python 3"
    }
  },
  "cells": [
    {
      "cell_type": "markdown",
      "metadata": {
        "id": "view-in-github",
        "colab_type": "text"
      },
      "source": [
        "<a href=\"https://colab.research.google.com/github/annisasuciati/Hate-Speech-Detection/blob/master/Hate_Speech_Detection.ipynb\" target=\"_parent\"><img src=\"https://colab.research.google.com/assets/colab-badge.svg\" alt=\"Open In Colab\"/></a>"
      ]
    },
    {
      "cell_type": "code",
      "metadata": {
        "colab": {
          "base_uri": "https://localhost:8080/"
        },
        "id": "LCQ6icQPvXqw",
        "outputId": "fbb7d33d-7f07-4a1d-ec7b-c390ffa2b013"
      },
      "source": [
        "pip install PySastrawi"
      ],
      "execution_count": 310,
      "outputs": [
        {
          "output_type": "stream",
          "text": [
            "Requirement already satisfied: PySastrawi in /usr/local/lib/python3.6/dist-packages (1.2.0)\n"
          ],
          "name": "stdout"
        }
      ]
    },
    {
      "cell_type": "code",
      "metadata": {
        "colab": {
          "base_uri": "https://localhost:8080/"
        },
        "id": "zRmV747ClENB",
        "outputId": "a1486629-b572-4c0e-ea1f-ff83828c3ba1"
      },
      "source": [
        "import pandas as pd\n",
        "import numpy as np\n",
        "\n",
        "import matplotlib.pyplot as plt\n",
        "import seaborn as sns\n",
        "import plotly.express as px\n",
        "\n",
        "import re\n",
        "import nltk\n",
        "from nltk.corpus import stopwords\n",
        "from sklearn.feature_extraction.text import TfidfVectorizer\n",
        "from sklearn.model_selection import train_test_split, cross_val_score\n",
        "from sklearn.preprocessing import LabelEncoder\n",
        "\n",
        "from sklearn.naive_bayes import GaussianNB \n",
        "from sklearn.svm import SVC\n",
        "from sklearn.neural_network import MLPClassifier\n",
        "from sklearn.neighbors import KNeighborsClassifier\n",
        "from sklearn.ensemble import RandomForestClassifier\n",
        "from sklearn.model_selection import GridSearchCV\n",
        "from sklearn.model_selection import RandomizedSearchCV\n",
        "from sklearn.linear_model import LogisticRegression\n",
        "\n",
        "from sklearn import metrics\n",
        "from sklearn.metrics import classification_report\n",
        "from mlxtend.plotting import plot_confusion_matrix\n",
        "\n",
        "import warnings \n",
        "warnings.filterwarnings(\"ignore\")\n",
        "import unidecode\n",
        "from wordcloud import WordCloud\n",
        "from nltk.stem import WordNetLemmatizer \n",
        "nltk.download('wordnet')\n",
        "from nltk.stem import PorterStemmer\n",
        "nltk.download('punkt')\n",
        "from nltk.tokenize import word_tokenize \n",
        "import matplotlib.animation as animation\n",
        "import operator\n",
        "import plotly.express as px\n",
        "from collections import Counter\n",
        "%matplotlib inline"
      ],
      "execution_count": 311,
      "outputs": [
        {
          "output_type": "stream",
          "text": [
            "[nltk_data] Downloading package wordnet to /root/nltk_data...\n",
            "[nltk_data]   Package wordnet is already up-to-date!\n",
            "[nltk_data] Downloading package punkt to /root/nltk_data...\n",
            "[nltk_data]   Package punkt is already up-to-date!\n"
          ],
          "name": "stdout"
        }
      ]
    },
    {
      "cell_type": "markdown",
      "metadata": {
        "id": "BBNO5TvUSVhp"
      },
      "source": [
        "# Load Dataset"
      ]
    },
    {
      "cell_type": "code",
      "metadata": {
        "colab": {
          "base_uri": "https://localhost:8080/",
          "height": 204
        },
        "id": "LVPyDJ3duXBi",
        "outputId": "1825747d-2bff-46b1-9e23-875a72dc5a24"
      },
      "source": [
        "df = pd.read_csv('https://raw.githubusercontent.com/annisasuciati/Hate-Speech-Detection/master/IDHSD_RIO_unbalanced_713_2017.txt', sep='\\t', encoding = \"ISO-8859-1\", dtype=str)\n",
        "df.head()"
      ],
      "execution_count": 312,
      "outputs": [
        {
          "output_type": "execute_result",
          "data": {
            "text/html": [
              "<div>\n",
              "<style scoped>\n",
              "    .dataframe tbody tr th:only-of-type {\n",
              "        vertical-align: middle;\n",
              "    }\n",
              "\n",
              "    .dataframe tbody tr th {\n",
              "        vertical-align: top;\n",
              "    }\n",
              "\n",
              "    .dataframe thead th {\n",
              "        text-align: right;\n",
              "    }\n",
              "</style>\n",
              "<table border=\"1\" class=\"dataframe\">\n",
              "  <thead>\n",
              "    <tr style=\"text-align: right;\">\n",
              "      <th></th>\n",
              "      <th>Label</th>\n",
              "      <th>Tweet</th>\n",
              "    </tr>\n",
              "  </thead>\n",
              "  <tbody>\n",
              "    <tr>\n",
              "      <th>0</th>\n",
              "      <td>Non_HS</td>\n",
              "      <td>RT @spardaxyz: Fadli Zon Minta Mendagri Segera...</td>\n",
              "    </tr>\n",
              "    <tr>\n",
              "      <th>1</th>\n",
              "      <td>Non_HS</td>\n",
              "      <td>RT @baguscondromowo: Mereka terus melukai aksi...</td>\n",
              "    </tr>\n",
              "    <tr>\n",
              "      <th>2</th>\n",
              "      <td>Non_HS</td>\n",
              "      <td>Sylvi: bagaimana gurbernur melakukan kekerasan...</td>\n",
              "    </tr>\n",
              "    <tr>\n",
              "      <th>3</th>\n",
              "      <td>Non_HS</td>\n",
              "      <td>Ahmad Dhani Tak Puas Debat Pilkada, Masalah Ja...</td>\n",
              "    </tr>\n",
              "    <tr>\n",
              "      <th>4</th>\n",
              "      <td>Non_HS</td>\n",
              "      <td>RT @lisdaulay28: Waspada KTP palsu.....kawal P...</td>\n",
              "    </tr>\n",
              "  </tbody>\n",
              "</table>\n",
              "</div>"
            ],
            "text/plain": [
              "    Label                                              Tweet\n",
              "0  Non_HS  RT @spardaxyz: Fadli Zon Minta Mendagri Segera...\n",
              "1  Non_HS  RT @baguscondromowo: Mereka terus melukai aksi...\n",
              "2  Non_HS  Sylvi: bagaimana gurbernur melakukan kekerasan...\n",
              "3  Non_HS  Ahmad Dhani Tak Puas Debat Pilkada, Masalah Ja...\n",
              "4  Non_HS  RT @lisdaulay28: Waspada KTP palsu.....kawal P..."
            ]
          },
          "metadata": {
            "tags": []
          },
          "execution_count": 312
        }
      ]
    },
    {
      "cell_type": "code",
      "metadata": {
        "id": "6KDyo3IS_3uK"
      },
      "source": [
        "# pip install Unidecode"
      ],
      "execution_count": 313,
      "outputs": []
    },
    {
      "cell_type": "markdown",
      "metadata": {
        "id": "n-z1C51PSdB1"
      },
      "source": [
        "# Melakukan drop terhadap data yang duplikat"
      ]
    },
    {
      "cell_type": "code",
      "metadata": {
        "colab": {
          "base_uri": "https://localhost:8080/"
        },
        "id": "SfSHo9I40aWW",
        "outputId": "f4736f79-c64f-4e17-cdee-32a2eea517b6"
      },
      "source": [
        "df.shape"
      ],
      "execution_count": 314,
      "outputs": [
        {
          "output_type": "execute_result",
          "data": {
            "text/plain": [
              "(713, 2)"
            ]
          },
          "metadata": {
            "tags": []
          },
          "execution_count": 314
        }
      ]
    },
    {
      "cell_type": "code",
      "metadata": {
        "id": "gKqe-i3BAEIi"
      },
      "source": [
        "df.drop_duplicates(inplace = True)"
      ],
      "execution_count": 315,
      "outputs": []
    },
    {
      "cell_type": "code",
      "metadata": {
        "colab": {
          "base_uri": "https://localhost:8080/"
        },
        "id": "z1sVePsS__9r",
        "outputId": "228761cc-abfb-4a0d-8da1-68f60edd94a5"
      },
      "source": [
        "df.shape"
      ],
      "execution_count": 316,
      "outputs": [
        {
          "output_type": "execute_result",
          "data": {
            "text/plain": [
              "(703, 2)"
            ]
          },
          "metadata": {
            "tags": []
          },
          "execution_count": 316
        }
      ]
    },
    {
      "cell_type": "markdown",
      "metadata": {
        "id": "poMeongwSjka"
      },
      "source": [
        "# Mencari dataset dengan nilai kosong"
      ]
    },
    {
      "cell_type": "code",
      "metadata": {
        "colab": {
          "base_uri": "https://localhost:8080/"
        },
        "id": "7allKxdrAAmS",
        "outputId": "841743d2-9960-4d75-a547-635a38cf8cd7"
      },
      "source": [
        "df['Tweet'].isna().sum()"
      ],
      "execution_count": 317,
      "outputs": [
        {
          "output_type": "execute_result",
          "data": {
            "text/plain": [
              "0"
            ]
          },
          "metadata": {
            "tags": []
          },
          "execution_count": 317
        }
      ]
    },
    {
      "cell_type": "code",
      "metadata": {
        "colab": {
          "base_uri": "https://localhost:8080/"
        },
        "id": "1U14NjfgAOx9",
        "outputId": "22d21ecd-c2e4-40f2-b575-ff97b43d1fc0"
      },
      "source": [
        "df['Label'].isna().sum()"
      ],
      "execution_count": 318,
      "outputs": [
        {
          "output_type": "execute_result",
          "data": {
            "text/plain": [
              "0"
            ]
          },
          "metadata": {
            "tags": []
          },
          "execution_count": 318
        }
      ]
    },
    {
      "cell_type": "markdown",
      "metadata": {
        "id": "2BVPbRoNSq47"
      },
      "source": [
        "# Menghilangkan '@'"
      ]
    },
    {
      "cell_type": "code",
      "metadata": {
        "id": "S1gxHMDhAS0j"
      },
      "source": [
        "#Code to remove @\n",
        "df['clean_tweet'] = df['Tweet'].apply(lambda x : ' '.join([tweet for tweet in x.split()if not tweet.startswith(\"@\")]))"
      ],
      "execution_count": 319,
      "outputs": []
    },
    {
      "cell_type": "code",
      "metadata": {
        "colab": {
          "base_uri": "https://localhost:8080/",
          "height": 204
        },
        "id": "1uL4K1fwAXWE",
        "outputId": "6eff5358-3218-442d-90bb-2e6fc69aac37"
      },
      "source": [
        "df.head()"
      ],
      "execution_count": 320,
      "outputs": [
        {
          "output_type": "execute_result",
          "data": {
            "text/html": [
              "<div>\n",
              "<style scoped>\n",
              "    .dataframe tbody tr th:only-of-type {\n",
              "        vertical-align: middle;\n",
              "    }\n",
              "\n",
              "    .dataframe tbody tr th {\n",
              "        vertical-align: top;\n",
              "    }\n",
              "\n",
              "    .dataframe thead th {\n",
              "        text-align: right;\n",
              "    }\n",
              "</style>\n",
              "<table border=\"1\" class=\"dataframe\">\n",
              "  <thead>\n",
              "    <tr style=\"text-align: right;\">\n",
              "      <th></th>\n",
              "      <th>Label</th>\n",
              "      <th>Tweet</th>\n",
              "      <th>clean_tweet</th>\n",
              "    </tr>\n",
              "  </thead>\n",
              "  <tbody>\n",
              "    <tr>\n",
              "      <th>0</th>\n",
              "      <td>Non_HS</td>\n",
              "      <td>RT @spardaxyz: Fadli Zon Minta Mendagri Segera...</td>\n",
              "      <td>RT Fadli Zon Minta Mendagri Segera Menonaktifk...</td>\n",
              "    </tr>\n",
              "    <tr>\n",
              "      <th>1</th>\n",
              "      <td>Non_HS</td>\n",
              "      <td>RT @baguscondromowo: Mereka terus melukai aksi...</td>\n",
              "      <td>RT Mereka terus melukai aksi dalam rangka meme...</td>\n",
              "    </tr>\n",
              "    <tr>\n",
              "      <th>2</th>\n",
              "      <td>Non_HS</td>\n",
              "      <td>Sylvi: bagaimana gurbernur melakukan kekerasan...</td>\n",
              "      <td>Sylvi: bagaimana gurbernur melakukan kekerasan...</td>\n",
              "    </tr>\n",
              "    <tr>\n",
              "      <th>3</th>\n",
              "      <td>Non_HS</td>\n",
              "      <td>Ahmad Dhani Tak Puas Debat Pilkada, Masalah Ja...</td>\n",
              "      <td>Ahmad Dhani Tak Puas Debat Pilkada, Masalah Ja...</td>\n",
              "    </tr>\n",
              "    <tr>\n",
              "      <th>4</th>\n",
              "      <td>Non_HS</td>\n",
              "      <td>RT @lisdaulay28: Waspada KTP palsu.....kawal P...</td>\n",
              "      <td>RT Waspada KTP palsu.....kawal PILKADA https:\\...</td>\n",
              "    </tr>\n",
              "  </tbody>\n",
              "</table>\n",
              "</div>"
            ],
            "text/plain": [
              "    Label  ...                                        clean_tweet\n",
              "0  Non_HS  ...  RT Fadli Zon Minta Mendagri Segera Menonaktifk...\n",
              "1  Non_HS  ...  RT Mereka terus melukai aksi dalam rangka meme...\n",
              "2  Non_HS  ...  Sylvi: bagaimana gurbernur melakukan kekerasan...\n",
              "3  Non_HS  ...  Ahmad Dhani Tak Puas Debat Pilkada, Masalah Ja...\n",
              "4  Non_HS  ...  RT Waspada KTP palsu.....kawal PILKADA https:\\...\n",
              "\n",
              "[5 rows x 3 columns]"
            ]
          },
          "metadata": {
            "tags": []
          },
          "execution_count": 320
        }
      ]
    },
    {
      "cell_type": "markdown",
      "metadata": {
        "id": "0EtrvB73SzYl"
      },
      "source": [
        "# Menghilangkan angka"
      ]
    },
    {
      "cell_type": "code",
      "metadata": {
        "id": "fkQi7GrVAcTb"
      },
      "source": [
        "#Removing numbers\n",
        "df['clean_tweet'] = df['clean_tweet'].apply(lambda x : ' '.join([tweet for tweet in x.split() if not tweet == '\\d*']))"
      ],
      "execution_count": 321,
      "outputs": []
    },
    {
      "cell_type": "code",
      "metadata": {
        "colab": {
          "base_uri": "https://localhost:8080/",
          "height": 204
        },
        "id": "1g86tIBTAf_W",
        "outputId": "a69d857d-9180-41ae-f4f5-1a73bdc104d1"
      },
      "source": [
        "df.head()"
      ],
      "execution_count": 322,
      "outputs": [
        {
          "output_type": "execute_result",
          "data": {
            "text/html": [
              "<div>\n",
              "<style scoped>\n",
              "    .dataframe tbody tr th:only-of-type {\n",
              "        vertical-align: middle;\n",
              "    }\n",
              "\n",
              "    .dataframe tbody tr th {\n",
              "        vertical-align: top;\n",
              "    }\n",
              "\n",
              "    .dataframe thead th {\n",
              "        text-align: right;\n",
              "    }\n",
              "</style>\n",
              "<table border=\"1\" class=\"dataframe\">\n",
              "  <thead>\n",
              "    <tr style=\"text-align: right;\">\n",
              "      <th></th>\n",
              "      <th>Label</th>\n",
              "      <th>Tweet</th>\n",
              "      <th>clean_tweet</th>\n",
              "    </tr>\n",
              "  </thead>\n",
              "  <tbody>\n",
              "    <tr>\n",
              "      <th>0</th>\n",
              "      <td>Non_HS</td>\n",
              "      <td>RT @spardaxyz: Fadli Zon Minta Mendagri Segera...</td>\n",
              "      <td>RT Fadli Zon Minta Mendagri Segera Menonaktifk...</td>\n",
              "    </tr>\n",
              "    <tr>\n",
              "      <th>1</th>\n",
              "      <td>Non_HS</td>\n",
              "      <td>RT @baguscondromowo: Mereka terus melukai aksi...</td>\n",
              "      <td>RT Mereka terus melukai aksi dalam rangka meme...</td>\n",
              "    </tr>\n",
              "    <tr>\n",
              "      <th>2</th>\n",
              "      <td>Non_HS</td>\n",
              "      <td>Sylvi: bagaimana gurbernur melakukan kekerasan...</td>\n",
              "      <td>Sylvi: bagaimana gurbernur melakukan kekerasan...</td>\n",
              "    </tr>\n",
              "    <tr>\n",
              "      <th>3</th>\n",
              "      <td>Non_HS</td>\n",
              "      <td>Ahmad Dhani Tak Puas Debat Pilkada, Masalah Ja...</td>\n",
              "      <td>Ahmad Dhani Tak Puas Debat Pilkada, Masalah Ja...</td>\n",
              "    </tr>\n",
              "    <tr>\n",
              "      <th>4</th>\n",
              "      <td>Non_HS</td>\n",
              "      <td>RT @lisdaulay28: Waspada KTP palsu.....kawal P...</td>\n",
              "      <td>RT Waspada KTP palsu.....kawal PILKADA https:\\...</td>\n",
              "    </tr>\n",
              "  </tbody>\n",
              "</table>\n",
              "</div>"
            ],
            "text/plain": [
              "    Label  ...                                        clean_tweet\n",
              "0  Non_HS  ...  RT Fadli Zon Minta Mendagri Segera Menonaktifk...\n",
              "1  Non_HS  ...  RT Mereka terus melukai aksi dalam rangka meme...\n",
              "2  Non_HS  ...  Sylvi: bagaimana gurbernur melakukan kekerasan...\n",
              "3  Non_HS  ...  Ahmad Dhani Tak Puas Debat Pilkada, Masalah Ja...\n",
              "4  Non_HS  ...  RT Waspada KTP palsu.....kawal PILKADA https:\\...\n",
              "\n",
              "[5 rows x 3 columns]"
            ]
          },
          "metadata": {
            "tags": []
          },
          "execution_count": 322
        }
      ]
    },
    {
      "cell_type": "markdown",
      "metadata": {
        "id": "_BwbSXlbS2pR"
      },
      "source": [
        "# Menhilangkan greek character"
      ]
    },
    {
      "cell_type": "code",
      "metadata": {
        "id": "moAxOh8OAhI8"
      },
      "source": [
        "#Removing all the greek characters using unidecode library\n",
        "df['clean_tweet'] = df['clean_tweet'].apply(lambda x : ' '.join([unidecode.unidecode(word) for word in x.split()])) "
      ],
      "execution_count": 323,
      "outputs": []
    },
    {
      "cell_type": "code",
      "metadata": {
        "colab": {
          "base_uri": "https://localhost:8080/",
          "height": 359
        },
        "id": "dyDFaDerAlty",
        "outputId": "59729a61-322e-4fa7-d42a-92c6b93ed787"
      },
      "source": [
        "df.head(10)"
      ],
      "execution_count": 324,
      "outputs": [
        {
          "output_type": "execute_result",
          "data": {
            "text/html": [
              "<div>\n",
              "<style scoped>\n",
              "    .dataframe tbody tr th:only-of-type {\n",
              "        vertical-align: middle;\n",
              "    }\n",
              "\n",
              "    .dataframe tbody tr th {\n",
              "        vertical-align: top;\n",
              "    }\n",
              "\n",
              "    .dataframe thead th {\n",
              "        text-align: right;\n",
              "    }\n",
              "</style>\n",
              "<table border=\"1\" class=\"dataframe\">\n",
              "  <thead>\n",
              "    <tr style=\"text-align: right;\">\n",
              "      <th></th>\n",
              "      <th>Label</th>\n",
              "      <th>Tweet</th>\n",
              "      <th>clean_tweet</th>\n",
              "    </tr>\n",
              "  </thead>\n",
              "  <tbody>\n",
              "    <tr>\n",
              "      <th>0</th>\n",
              "      <td>Non_HS</td>\n",
              "      <td>RT @spardaxyz: Fadli Zon Minta Mendagri Segera...</td>\n",
              "      <td>RT Fadli Zon Minta Mendagri Segera Menonaktifk...</td>\n",
              "    </tr>\n",
              "    <tr>\n",
              "      <th>1</th>\n",
              "      <td>Non_HS</td>\n",
              "      <td>RT @baguscondromowo: Mereka terus melukai aksi...</td>\n",
              "      <td>RT Mereka terus melukai aksi dalam rangka meme...</td>\n",
              "    </tr>\n",
              "    <tr>\n",
              "      <th>2</th>\n",
              "      <td>Non_HS</td>\n",
              "      <td>Sylvi: bagaimana gurbernur melakukan kekerasan...</td>\n",
              "      <td>Sylvi: bagaimana gurbernur melakukan kekerasan...</td>\n",
              "    </tr>\n",
              "    <tr>\n",
              "      <th>3</th>\n",
              "      <td>Non_HS</td>\n",
              "      <td>Ahmad Dhani Tak Puas Debat Pilkada, Masalah Ja...</td>\n",
              "      <td>Ahmad Dhani Tak Puas Debat Pilkada, Masalah Ja...</td>\n",
              "    </tr>\n",
              "    <tr>\n",
              "      <th>4</th>\n",
              "      <td>Non_HS</td>\n",
              "      <td>RT @lisdaulay28: Waspada KTP palsu.....kawal P...</td>\n",
              "      <td>RT Waspada KTP palsu.....kawal PILKADA https:\\...</td>\n",
              "    </tr>\n",
              "    <tr>\n",
              "      <th>5</th>\n",
              "      <td>Non_HS</td>\n",
              "      <td>@felixsiauw masih bnyak hal agamis yg bisa dib...</td>\n",
              "      <td>masih bnyak hal agamis yg bisa dibahas, kenapa...</td>\n",
              "    </tr>\n",
              "    <tr>\n",
              "      <th>6</th>\n",
              "      <td>Non_HS</td>\n",
              "      <td>@saidaqil apa maksud pernyataan. Anda? Apa and...</td>\n",
              "      <td>apa maksud pernyataan. Anda? Apa anda mengamin...</td>\n",
              "    </tr>\n",
              "    <tr>\n",
              "      <th>7</th>\n",
              "      <td>Non_HS</td>\n",
              "      <td>Ahok Akan Integrasikan Transportasi Publik den...</td>\n",
              "      <td>Ahok Akan Integrasikan Transportasi Publik den...</td>\n",
              "    </tr>\n",
              "    <tr>\n",
              "      <th>8</th>\n",
              "      <td>Non_HS</td>\n",
              "      <td>Ahok mampu melawan korupsi di ibukota, bangun ...</td>\n",
              "      <td>Ahok mampu melawan korupsi di ibukota, bangun ...</td>\n",
              "    </tr>\n",
              "    <tr>\n",
              "      <th>9</th>\n",
              "      <td>Non_HS</td>\n",
              "      <td>Awasi Kecurangan Pilkada, Agus - Sylvi Pakai A...</td>\n",
              "      <td>Awasi Kecurangan Pilkada, Agus - Sylvi Pakai A...</td>\n",
              "    </tr>\n",
              "  </tbody>\n",
              "</table>\n",
              "</div>"
            ],
            "text/plain": [
              "    Label  ...                                        clean_tweet\n",
              "0  Non_HS  ...  RT Fadli Zon Minta Mendagri Segera Menonaktifk...\n",
              "1  Non_HS  ...  RT Mereka terus melukai aksi dalam rangka meme...\n",
              "2  Non_HS  ...  Sylvi: bagaimana gurbernur melakukan kekerasan...\n",
              "3  Non_HS  ...  Ahmad Dhani Tak Puas Debat Pilkada, Masalah Ja...\n",
              "4  Non_HS  ...  RT Waspada KTP palsu.....kawal PILKADA https:\\...\n",
              "5  Non_HS  ...  masih bnyak hal agamis yg bisa dibahas, kenapa...\n",
              "6  Non_HS  ...  apa maksud pernyataan. Anda? Apa anda mengamin...\n",
              "7  Non_HS  ...  Ahok Akan Integrasikan Transportasi Publik den...\n",
              "8  Non_HS  ...  Ahok mampu melawan korupsi di ibukota, bangun ...\n",
              "9  Non_HS  ...  Awasi Kecurangan Pilkada, Agus - Sylvi Pakai A...\n",
              "\n",
              "[10 rows x 3 columns]"
            ]
          },
          "metadata": {
            "tags": []
          },
          "execution_count": 324
        }
      ]
    },
    {
      "cell_type": "markdown",
      "metadata": {
        "id": "jqcXy7OjS6at"
      },
      "source": [
        "# Menghilangkan kata hmm dan lainnya"
      ]
    },
    {
      "cell_type": "code",
      "metadata": {
        "id": "FNPrXmZlAoAA"
      },
      "source": [
        "#Removing the word 'hmm' and it's variants\n",
        "df['clean_tweet'] = df['clean_tweet'].apply(lambda x : ' '.join([word for word in x.split() if not word == 'h(m)+' ]))"
      ],
      "execution_count": 325,
      "outputs": []
    },
    {
      "cell_type": "code",
      "metadata": {
        "colab": {
          "base_uri": "https://localhost:8080/",
          "height": 204
        },
        "id": "v0TuqmAbA3qg",
        "outputId": "8b726335-fb17-41a3-fbc2-e9e89e19d25f"
      },
      "source": [
        "df.head()"
      ],
      "execution_count": 326,
      "outputs": [
        {
          "output_type": "execute_result",
          "data": {
            "text/html": [
              "<div>\n",
              "<style scoped>\n",
              "    .dataframe tbody tr th:only-of-type {\n",
              "        vertical-align: middle;\n",
              "    }\n",
              "\n",
              "    .dataframe tbody tr th {\n",
              "        vertical-align: top;\n",
              "    }\n",
              "\n",
              "    .dataframe thead th {\n",
              "        text-align: right;\n",
              "    }\n",
              "</style>\n",
              "<table border=\"1\" class=\"dataframe\">\n",
              "  <thead>\n",
              "    <tr style=\"text-align: right;\">\n",
              "      <th></th>\n",
              "      <th>Label</th>\n",
              "      <th>Tweet</th>\n",
              "      <th>clean_tweet</th>\n",
              "    </tr>\n",
              "  </thead>\n",
              "  <tbody>\n",
              "    <tr>\n",
              "      <th>0</th>\n",
              "      <td>Non_HS</td>\n",
              "      <td>RT @spardaxyz: Fadli Zon Minta Mendagri Segera...</td>\n",
              "      <td>RT Fadli Zon Minta Mendagri Segera Menonaktifk...</td>\n",
              "    </tr>\n",
              "    <tr>\n",
              "      <th>1</th>\n",
              "      <td>Non_HS</td>\n",
              "      <td>RT @baguscondromowo: Mereka terus melukai aksi...</td>\n",
              "      <td>RT Mereka terus melukai aksi dalam rangka meme...</td>\n",
              "    </tr>\n",
              "    <tr>\n",
              "      <th>2</th>\n",
              "      <td>Non_HS</td>\n",
              "      <td>Sylvi: bagaimana gurbernur melakukan kekerasan...</td>\n",
              "      <td>Sylvi: bagaimana gurbernur melakukan kekerasan...</td>\n",
              "    </tr>\n",
              "    <tr>\n",
              "      <th>3</th>\n",
              "      <td>Non_HS</td>\n",
              "      <td>Ahmad Dhani Tak Puas Debat Pilkada, Masalah Ja...</td>\n",
              "      <td>Ahmad Dhani Tak Puas Debat Pilkada, Masalah Ja...</td>\n",
              "    </tr>\n",
              "    <tr>\n",
              "      <th>4</th>\n",
              "      <td>Non_HS</td>\n",
              "      <td>RT @lisdaulay28: Waspada KTP palsu.....kawal P...</td>\n",
              "      <td>RT Waspada KTP palsu.....kawal PILKADA https:\\...</td>\n",
              "    </tr>\n",
              "  </tbody>\n",
              "</table>\n",
              "</div>"
            ],
            "text/plain": [
              "    Label  ...                                        clean_tweet\n",
              "0  Non_HS  ...  RT Fadli Zon Minta Mendagri Segera Menonaktifk...\n",
              "1  Non_HS  ...  RT Mereka terus melukai aksi dalam rangka meme...\n",
              "2  Non_HS  ...  Sylvi: bagaimana gurbernur melakukan kekerasan...\n",
              "3  Non_HS  ...  Ahmad Dhani Tak Puas Debat Pilkada, Masalah Ja...\n",
              "4  Non_HS  ...  RT Waspada KTP palsu.....kawal PILKADA https:\\...\n",
              "\n",
              "[5 rows x 3 columns]"
            ]
          },
          "metadata": {
            "tags": []
          },
          "execution_count": 326
        }
      ]
    },
    {
      "cell_type": "code",
      "metadata": {
        "id": "SJxEcrMUA5h8"
      },
      "source": [
        "import string\n",
        "# Menghapus mention, link dan hastag\n",
        "def remove_mention(tweet):\n",
        "  rem_mt = ' '.join(re.sub(\"([@#][A-Za-z0-9]+)|(\\w+:\\/\\/\\S+)\",\" \", tweet).split())\n",
        "  return rem_mt\n",
        "\n",
        "# Menghapus URL\n",
        "def remove_url(tweet):\n",
        "  rem_url = re.sub(r\"http\\S+\", \"\", tweet)\n",
        "  return rem_url\n",
        "\n",
        "# Menghapus RT\n",
        "def remove_RT(tweet):\n",
        "  rem_RT = re.sub(r'^RT[\\s]+', '', tweet)\n",
        "  return rem_RT\n",
        "\n",
        "# Menghapus tanda baca\n",
        "def remove_punctuation(tweet):\n",
        "  rem_punct  = tweet.translate(str.maketrans(\"\",\"\",string.punctuation))\n",
        "  return rem_punct"
      ],
      "execution_count": 327,
      "outputs": []
    },
    {
      "cell_type": "code",
      "metadata": {
        "id": "r8azwOPqHZlu"
      },
      "source": [
        "df['clean_tweet'] = df['clean_tweet'].apply(lambda x : ' '.join(re.sub(\"([@#][A-Za-z0-9]+)|(\\w+:\\/\\/\\S+)\",\" \", x).split()))\n",
        "df['clean_tweet'] = df['clean_tweet'].apply(remove_url)           # function remove_url"
      ],
      "execution_count": 328,
      "outputs": []
    },
    {
      "cell_type": "code",
      "metadata": {
        "id": "7KvWXTs6H06j"
      },
      "source": [
        "df['clean_tweet'] = df['clean_tweet'].apply(remove_RT)            # function remove_RT"
      ],
      "execution_count": 329,
      "outputs": []
    },
    {
      "cell_type": "code",
      "metadata": {
        "id": "87Qqp6EzKMwt"
      },
      "source": [
        "df['clean_tweet'] = df['clean_tweet'].apply(remove_punctuation)   # function remove_punctuation"
      ],
      "execution_count": 330,
      "outputs": []
    },
    {
      "cell_type": "code",
      "metadata": {
        "colab": {
          "base_uri": "https://localhost:8080/",
          "height": 204
        },
        "id": "hqfCRQeRBCzA",
        "outputId": "854afd9f-8764-40ca-898a-61e6540578ee"
      },
      "source": [
        "df.head()"
      ],
      "execution_count": 331,
      "outputs": [
        {
          "output_type": "execute_result",
          "data": {
            "text/html": [
              "<div>\n",
              "<style scoped>\n",
              "    .dataframe tbody tr th:only-of-type {\n",
              "        vertical-align: middle;\n",
              "    }\n",
              "\n",
              "    .dataframe tbody tr th {\n",
              "        vertical-align: top;\n",
              "    }\n",
              "\n",
              "    .dataframe thead th {\n",
              "        text-align: right;\n",
              "    }\n",
              "</style>\n",
              "<table border=\"1\" class=\"dataframe\">\n",
              "  <thead>\n",
              "    <tr style=\"text-align: right;\">\n",
              "      <th></th>\n",
              "      <th>Label</th>\n",
              "      <th>Tweet</th>\n",
              "      <th>clean_tweet</th>\n",
              "    </tr>\n",
              "  </thead>\n",
              "  <tbody>\n",
              "    <tr>\n",
              "      <th>0</th>\n",
              "      <td>Non_HS</td>\n",
              "      <td>RT @spardaxyz: Fadli Zon Minta Mendagri Segera...</td>\n",
              "      <td>Fadli Zon Minta Mendagri Segera Menonaktifkan ...</td>\n",
              "    </tr>\n",
              "    <tr>\n",
              "      <th>1</th>\n",
              "      <td>Non_HS</td>\n",
              "      <td>RT @baguscondromowo: Mereka terus melukai aksi...</td>\n",
              "      <td>Mereka terus melukai aksi dalam rangka memenja...</td>\n",
              "    </tr>\n",
              "    <tr>\n",
              "      <th>2</th>\n",
              "      <td>Non_HS</td>\n",
              "      <td>Sylvi: bagaimana gurbernur melakukan kekerasan...</td>\n",
              "      <td>Sylvi bagaimana gurbernur melakukan kekerasan ...</td>\n",
              "    </tr>\n",
              "    <tr>\n",
              "      <th>3</th>\n",
              "      <td>Non_HS</td>\n",
              "      <td>Ahmad Dhani Tak Puas Debat Pilkada, Masalah Ja...</td>\n",
              "      <td>Ahmad Dhani Tak Puas Debat Pilkada Masalah Jal...</td>\n",
              "    </tr>\n",
              "    <tr>\n",
              "      <th>4</th>\n",
              "      <td>Non_HS</td>\n",
              "      <td>RT @lisdaulay28: Waspada KTP palsu.....kawal P...</td>\n",
              "      <td>Waspada KTP palsukawal PILKADA</td>\n",
              "    </tr>\n",
              "  </tbody>\n",
              "</table>\n",
              "</div>"
            ],
            "text/plain": [
              "    Label  ...                                        clean_tweet\n",
              "0  Non_HS  ...  Fadli Zon Minta Mendagri Segera Menonaktifkan ...\n",
              "1  Non_HS  ...  Mereka terus melukai aksi dalam rangka memenja...\n",
              "2  Non_HS  ...  Sylvi bagaimana gurbernur melakukan kekerasan ...\n",
              "3  Non_HS  ...  Ahmad Dhani Tak Puas Debat Pilkada Masalah Jal...\n",
              "4  Non_HS  ...                    Waspada KTP palsukawal PILKADA \n",
              "\n",
              "[5 rows x 3 columns]"
            ]
          },
          "metadata": {
            "tags": []
          },
          "execution_count": 331
        }
      ]
    },
    {
      "cell_type": "code",
      "metadata": {
        "id": "hHdGary6BJAC"
      },
      "source": [
        "#Removing stopwords\n",
        "df['clean_tweet'] = df['clean_tweet'].apply(lambda x : ' '.join([word for word in x.split() if not word in set(stopwords.words('indonesian'))]))"
      ],
      "execution_count": 334,
      "outputs": []
    },
    {
      "cell_type": "code",
      "metadata": {
        "id": "tFoR4l7JB2am"
      },
      "source": [
        "# nltk.download('stopwords')"
      ],
      "execution_count": 335,
      "outputs": []
    },
    {
      "cell_type": "code",
      "metadata": {
        "colab": {
          "base_uri": "https://localhost:8080/",
          "height": 204
        },
        "id": "RgncoY05CE0U",
        "outputId": "7e9c6ace-6783-4924-c027-8ba559eda2b4"
      },
      "source": [
        "df.head()"
      ],
      "execution_count": 336,
      "outputs": [
        {
          "output_type": "execute_result",
          "data": {
            "text/html": [
              "<div>\n",
              "<style scoped>\n",
              "    .dataframe tbody tr th:only-of-type {\n",
              "        vertical-align: middle;\n",
              "    }\n",
              "\n",
              "    .dataframe tbody tr th {\n",
              "        vertical-align: top;\n",
              "    }\n",
              "\n",
              "    .dataframe thead th {\n",
              "        text-align: right;\n",
              "    }\n",
              "</style>\n",
              "<table border=\"1\" class=\"dataframe\">\n",
              "  <thead>\n",
              "    <tr style=\"text-align: right;\">\n",
              "      <th></th>\n",
              "      <th>Label</th>\n",
              "      <th>Tweet</th>\n",
              "      <th>clean_tweet</th>\n",
              "    </tr>\n",
              "  </thead>\n",
              "  <tbody>\n",
              "    <tr>\n",
              "      <th>0</th>\n",
              "      <td>Non_HS</td>\n",
              "      <td>RT @spardaxyz: Fadli Zon Minta Mendagri Segera...</td>\n",
              "      <td>Fadli Zon Minta Mendagri Segera Menonaktifkan ...</td>\n",
              "    </tr>\n",
              "    <tr>\n",
              "      <th>1</th>\n",
              "      <td>Non_HS</td>\n",
              "      <td>RT @baguscondromowo: Mereka terus melukai aksi...</td>\n",
              "      <td>Mereka melukai aksi rangka memenjarakan Ahok A...</td>\n",
              "    </tr>\n",
              "    <tr>\n",
              "      <th>2</th>\n",
              "      <td>Non_HS</td>\n",
              "      <td>Sylvi: bagaimana gurbernur melakukan kekerasan...</td>\n",
              "      <td>Sylvi gurbernur kekerasan perempuan Buktinya i...</td>\n",
              "    </tr>\n",
              "    <tr>\n",
              "      <th>3</th>\n",
              "      <td>Non_HS</td>\n",
              "      <td>Ahmad Dhani Tak Puas Debat Pilkada, Masalah Ja...</td>\n",
              "      <td>Ahmad Dhani Tak Puas Debat Pilkada Masalah Jal...</td>\n",
              "    </tr>\n",
              "    <tr>\n",
              "      <th>4</th>\n",
              "      <td>Non_HS</td>\n",
              "      <td>RT @lisdaulay28: Waspada KTP palsu.....kawal P...</td>\n",
              "      <td>Waspada KTP palsukawal PILKADA</td>\n",
              "    </tr>\n",
              "  </tbody>\n",
              "</table>\n",
              "</div>"
            ],
            "text/plain": [
              "    Label  ...                                        clean_tweet\n",
              "0  Non_HS  ...  Fadli Zon Minta Mendagri Segera Menonaktifkan ...\n",
              "1  Non_HS  ...  Mereka melukai aksi rangka memenjarakan Ahok A...\n",
              "2  Non_HS  ...  Sylvi gurbernur kekerasan perempuan Buktinya i...\n",
              "3  Non_HS  ...  Ahmad Dhani Tak Puas Debat Pilkada Masalah Jal...\n",
              "4  Non_HS  ...                     Waspada KTP palsukawal PILKADA\n",
              "\n",
              "[5 rows x 3 columns]"
            ]
          },
          "metadata": {
            "tags": []
          },
          "execution_count": 336
        }
      ]
    },
    {
      "cell_type": "code",
      "metadata": {
        "id": "cc3Z2hiuCOtx"
      },
      "source": [
        "#Lemmitization\n",
        "lemmatizer = WordNetLemmatizer()\n",
        "df['clean_tweet'] = df['clean_tweet'].apply(lambda x : ' '.join([lemmatizer.lemmatize(word) for word in x.split()]))"
      ],
      "execution_count": 337,
      "outputs": []
    },
    {
      "cell_type": "code",
      "metadata": {
        "id": "zUB9b8uyCUTj"
      },
      "source": [
        "#Stemming\n",
        "ps = PorterStemmer()\n",
        "adwait = df\n",
        "#adwait.head()\n",
        "df['clean_tweet'] = df['clean_tweet'].apply(lambda x : ' '.join([ps.stem(word) for word in x.split()]))"
      ],
      "execution_count": 338,
      "outputs": []
    },
    {
      "cell_type": "code",
      "metadata": {
        "colab": {
          "base_uri": "https://localhost:8080/",
          "height": 204
        },
        "id": "pNviRTZwCYjb",
        "outputId": "1c9fd8a9-0c94-4733-c4a6-b3fce6105451"
      },
      "source": [
        "df.head()"
      ],
      "execution_count": 339,
      "outputs": [
        {
          "output_type": "execute_result",
          "data": {
            "text/html": [
              "<div>\n",
              "<style scoped>\n",
              "    .dataframe tbody tr th:only-of-type {\n",
              "        vertical-align: middle;\n",
              "    }\n",
              "\n",
              "    .dataframe tbody tr th {\n",
              "        vertical-align: top;\n",
              "    }\n",
              "\n",
              "    .dataframe thead th {\n",
              "        text-align: right;\n",
              "    }\n",
              "</style>\n",
              "<table border=\"1\" class=\"dataframe\">\n",
              "  <thead>\n",
              "    <tr style=\"text-align: right;\">\n",
              "      <th></th>\n",
              "      <th>Label</th>\n",
              "      <th>Tweet</th>\n",
              "      <th>clean_tweet</th>\n",
              "    </tr>\n",
              "  </thead>\n",
              "  <tbody>\n",
              "    <tr>\n",
              "      <th>0</th>\n",
              "      <td>Non_HS</td>\n",
              "      <td>RT @spardaxyz: Fadli Zon Minta Mendagri Segera...</td>\n",
              "      <td>fadli zon minta mendagri segera menonaktifkan ...</td>\n",
              "    </tr>\n",
              "    <tr>\n",
              "      <th>1</th>\n",
              "      <td>Non_HS</td>\n",
              "      <td>RT @baguscondromowo: Mereka terus melukai aksi...</td>\n",
              "      <td>mereka melukai aksi rangka memenjarakan ahok a...</td>\n",
              "    </tr>\n",
              "    <tr>\n",
              "      <th>2</th>\n",
              "      <td>Non_HS</td>\n",
              "      <td>Sylvi: bagaimana gurbernur melakukan kekerasan...</td>\n",
              "      <td>sylvi gurbernur kekerasan perempuan buktinya i...</td>\n",
              "    </tr>\n",
              "    <tr>\n",
              "      <th>3</th>\n",
              "      <td>Non_HS</td>\n",
              "      <td>Ahmad Dhani Tak Puas Debat Pilkada, Masalah Ja...</td>\n",
              "      <td>ahmad dhani tak pua debat pilkada masalah jala...</td>\n",
              "    </tr>\n",
              "    <tr>\n",
              "      <th>4</th>\n",
              "      <td>Non_HS</td>\n",
              "      <td>RT @lisdaulay28: Waspada KTP palsu.....kawal P...</td>\n",
              "      <td>waspada ktp palsukaw pilkada</td>\n",
              "    </tr>\n",
              "  </tbody>\n",
              "</table>\n",
              "</div>"
            ],
            "text/plain": [
              "    Label  ...                                        clean_tweet\n",
              "0  Non_HS  ...  fadli zon minta mendagri segera menonaktifkan ...\n",
              "1  Non_HS  ...  mereka melukai aksi rangka memenjarakan ahok a...\n",
              "2  Non_HS  ...  sylvi gurbernur kekerasan perempuan buktinya i...\n",
              "3  Non_HS  ...  ahmad dhani tak pua debat pilkada masalah jala...\n",
              "4  Non_HS  ...                       waspada ktp palsukaw pilkada\n",
              "\n",
              "[5 rows x 3 columns]"
            ]
          },
          "metadata": {
            "tags": []
          },
          "execution_count": 339
        }
      ]
    },
    {
      "cell_type": "code",
      "metadata": {
        "id": "oTgDo9tBDgnJ"
      },
      "source": [
        "# print(df.iloc[711,:])"
      ],
      "execution_count": 340,
      "outputs": []
    },
    {
      "cell_type": "code",
      "metadata": {
        "id": "XeLeHu4bCcpd"
      },
      "source": [
        "#Tokenization\n",
        "corpus = []\n",
        "for i in df.index:\n",
        "    # print(i)\n",
        "    tweet = df['clean_tweet'][i]\n",
        "    tweet = tweet.lower()\n",
        "    tweet = tweet.split()\n",
        "    tweet = [ps.stem(word) for word in tweet if not word in set(stopwords.words('indonesian'))]\n",
        "    tweet = ' '.join(tweet)\n",
        "    corpus.append(tweet)\n",
        "    # print('done')"
      ],
      "execution_count": 341,
      "outputs": []
    },
    {
      "cell_type": "code",
      "metadata": {
        "colab": {
          "base_uri": "https://localhost:8080/"
        },
        "id": "FZ9pt4JxCfyk",
        "outputId": "b318c2b6-bdfd-447a-a082-c11f369231f9"
      },
      "source": [
        "#Ensuring all the tweets are tokenized into individual words\n",
        "len(corpus)"
      ],
      "execution_count": 342,
      "outputs": [
        {
          "output_type": "execute_result",
          "data": {
            "text/plain": [
              "703"
            ]
          },
          "metadata": {
            "tags": []
          },
          "execution_count": 342
        }
      ]
    },
    {
      "cell_type": "code",
      "metadata": {
        "colab": {
          "base_uri": "https://localhost:8080/"
        },
        "id": "CU6I56O3FP0z",
        "outputId": "cd628d08-f1bd-470b-e9d8-fe8066c7ce33"
      },
      "source": [
        "corpus"
      ],
      "execution_count": 343,
      "outputs": [
        {
          "output_type": "execute_result",
          "data": {
            "text/plain": [
              "['fadli zon mendagri menonaktifkan ahok gubernur dki',\n",
              " 'melukai aksi rangka memenjarakan ahok ahok gagal pilkada',\n",
              " 'sylvi gurbernur kekerasan perempuan buktinya ibu2 foto bareng',\n",
              " 'ahmad dhani pua debat pilkada jalan bekasi terungkap',\n",
              " 'waspada ktp palsukaw pilkada',\n",
              " 'bnyak agami yg dibaha pilkada tingkat keimanan sebata pilkada',\n",
              " 'maksud pernyataan mengaminkan kriminalisasi ahok hati2 jg dg mulutmu',\n",
              " 'ahok integrasikan transportasi publik sistem singl ticketingu2026',\n",
              " 'ahok melawan korupsi ibukota bangun infrastruktur mencoba memperbaiki trobosan work well',\n",
              " 'awasi kecurangan pilkada agu sylvi pakai aplikasi',\n",
              " 'gak jokowi ahok kalem melengkapi',\n",
              " 'bo makan istana ga undang noh makan istana gebang tapinya',\n",
              " 'cuti habi ahok gubernur dki pengamat mengadaada republika onlin',\n",
              " 'debat pilkada dki jakarta digelar jumat malam',\n",
              " 'demonstran fpd malteng desak bawaslu hentikan tahapan pilkada maluku',\n",
              " 'didesak berhentikan ahok ngele cuti pilkada kampani habi kemendagri raguragu',\n",
              " 'gila gara2 pilkada tokoh menampakkan watak aslinya',\n",
              " 'gontor izinkan santrinya pulang kampung nyoblo pilkada dki republika onlin',\n",
              " 'gubernur nonaktif dki jakarta basuki tjahaja purnama ahok berencana merombak struktur jabatan pegawai',\n",
              " 'hebat imam masjid istiql kalimat ahok 100 penistaan agama sebarkan',\n",
              " 'ibu2 aja kalo beli telor pake milih2 sblm ditimbang pdh telor mirip2 ibu2 telor yg busuk',\n",
              " 'ahok terkait persiapan debat pilgub besok',\n",
              " 'pesan ahok nasion',\n",
              " 'istighotsah ahok catut logo nu',\n",
              " 'ngomong pilih ahok djarot ngerasain banjir ga sih',\n",
              " 'iya aja deh dripada hoax',\n",
              " 'pelacurbelia yg dijual orang tuanyasendiri panturademi sesuap nasi',\n",
              " 'yg nyebar hoax ketahuan akun twitter nya lho',\n",
              " 'mpok tolong ma',\n",
              " 'bidara beli mangga pulang nye liwat slipi lupa ingetin tetangga milih agu sylvi',\n",
              " 'seriu selipan hiburannya ud83dude06ud83dude06ud83dude06',\n",
              " 'sylvi suk blunder bikin paslon 1 drop elektabilitasnya fitnah spin salah pilih kader',\n",
              " 'ahok mari berlomba program',\n",
              " 'aduh kecewa paslon 1',\n",
              " 'pilih nomor 1 sektor inform dimajukan ma agu mpok sylvi',\n",
              " 'ahok pilihan terbaik jakarta',\n",
              " 'bu silvi curhat dimarahi ahokheh',\n",
              " 'mantap ahok',\n",
              " 'ahok gagah kaya gatot kaca',\n",
              " 'telaaaakkk nomer satuuuu nghahahaha',\n",
              " 'lomba adu program',\n",
              " 'denger program janji tau pa ga dijalankan male aja sih',\n",
              " 'debat cagub dki 3 10 februari 2017 segmen 3 mantap ahok skak sylviana murninn',\n",
              " 'silvi rada maksa',\n",
              " 'tanggal 15 pa pilkada sy gak milih siapasiapa ah',\n",
              " 'pribadi prefer muslim kapabilita lihat kondisinya ahok pilihan plg realisti kemajuan dki',\n",
              " 'mendukung ma ani anti ahok',\n",
              " 'spanduk tolak salatkan pembela penista agama muncul kalibata',\n",
              " 'telak banget anjir ngakak',\n",
              " 'ayo berlomba program fitnah2',\n",
              " 'nggak ngantuk yeay',\n",
              " 'duh dibilang ga program paslon 1 kesian kesian kesian',\n",
              " 'tuntut keadilan penista agama puluhan jawara betawi ikuti aksi 212 jilid ii',\n",
              " 'kera nih ahok',\n",
              " 'paslon 3 ani sandiaga uno 15 feb 2017 utk jakarta indonesia raya ok oce',\n",
              " 'sesuai namanya rond finalnn',\n",
              " 'mendagri puse ma emoh keluarkan fatwa statu gubernur penista agama',\n",
              " 'tolong adu program',\n",
              " 'genderang perang kencang',\n",
              " 'mpok sylvi udah emosi ud83dude02n',\n",
              " 'some peopl gabisa bedain kasar',\n",
              " 'beliau pemimpin hebat indonesia bangga',\n",
              " 'bu silvi jg pengen foto ahok hihihi',\n",
              " 'serang deh',\n",
              " 'baca biar mendinginkan suasana',\n",
              " 'ayo berlomba program jgn pitnah doank',\n",
              " 'pokoknya kalo ahok udah ngomong aduuuuuuh kelar',\n",
              " 'senjata makan tuan',\n",
              " 'ahok kekerasan verbal koruptor dielus2',\n",
              " 'gak program diserang diserang karakternya ahay ud83dude02',\n",
              " 'terkait jakarta ramah anak tanggapan',\n",
              " 'emang ok oce ani sandi mengatasi urbanisasi lapangan kerja',\n",
              " 'suporternya kampungan paslon ngomong jg',\n",
              " 'seru ni',\n",
              " 'nangi nangi ketonjok',\n",
              " 'debat malam pilihanmu jatuh paslon',\n",
              " 'wkwkwk udah dah pilih ani sandi aja',\n",
              " 'fitnah kejam loh pembunuhan',\n",
              " 'mari coba pakai',\n",
              " 'apapun keberanian ahok membongkar mafia anggaran tonggak apbd yg kredibel akuntabel',\n",
              " 'wujud nasion dagangannya hebat',\n",
              " 'dosen keliatan aslinya',\n",
              " 'kampani uda deklarasi anti sara gw pikir no3 mend no1',\n",
              " 'mateng mpok silvi bombardir ahok cerda ahok',\n",
              " 'mohon tenang',\n",
              " 'yg no1 nih ngomongin yg program mulu ya ngga bhan ya bwt serang lawan cape dehh',\n",
              " 'cinta ahok pokoknya',\n",
              " 'nggak ibu2 pengen foto ahok bapak2 lho',\n",
              " 'ma agu akui malam inirambut bagu',\n",
              " 'ahok janji berani tutup hiburan malam jual narkoba',\n",
              " 'agussylvi sisipkan bahasa jawa debat',\n",
              " 'ahok udah perhatikan penyandang disabilita jauuuh kandidat berjanji',\n",
              " 'ahok keren',\n",
              " 'gimana ya tim ahok disudutkan final kali y',\n",
              " 'nih fakta yg asbun',\n",
              " 'siapsiap meme cctv',\n",
              " 'nyinyir tingkat nasion',\n",
              " 'drama bgt',\n",
              " 'judulnya debat nyerang paslon 2',\n",
              " 'lha menyerang gitu ya',\n",
              " 'debat berantem beda tipi',\n",
              " 'orang dibilang makimaki orang',\n",
              " '1 2 perempuan berbeda kaum perempuan',\n",
              " 'mantap ok oce ani sandi mengatasi urbanisasi lapangan kerja',\n",
              " 'ga seru nih mengungkit kekerasan verbal lakukan manusia',\n",
              " 'perempuan perempuan',\n",
              " 'paslon 1 dpt dikategorikan sbg kekerasan debat',\n",
              " 'maafkan biarkan malam mempost ujaran kebencian malam xoxo',\n",
              " 'semoga allah memenangkan aniessandi',\n",
              " 'non muslim coblo ahok muslim coblo djarot',\n",
              " 'pemimpin ciptakan suasana damai tentram adu domba hasutan',\n",
              " 'presiden kapolri ok oce tuh',\n",
              " 'keliatan banget keberpihakan medium',\n",
              " 'bagu nih ilustrasinya',\n",
              " 'ahok keren',\n",
              " 'isinya timelin twitter cm pilkada membosankan',\n",
              " 'mohon tenang mohon tenang',\n",
              " 'ah diulang jawabannya beda',\n",
              " 'perasaan deh yg td om audionya ga ya',\n",
              " 'tinggal pinggir kali tanahnya jualan pinggir jalan',\n",
              " 'sehatkan warga dki barulah pembangunan sejahterakan warganya',\n",
              " 'diputuskan pacar program oke oce solusi nya',\n",
              " 'melibatkan paham bidangnya duduk memecahkan solusi kepemimpinan yg cerda',\n",
              " 'lakilaki mengalami kekerasan verbal kali dirimu dimarahi istrimu ayo ngaku',\n",
              " 'gerakangerakan ala',\n",
              " 'mayorita warga jakarta dipimpin gubernur emang iya',\n",
              " 'paslon 1 nyerang paslon 2 ni',\n",
              " 'upaya aniessandi mendukung perempuan pelaku ukm',\n",
              " 'salah indik meningkatnya kualita hidup warga jkt adl tersenyum djarot malam',\n",
              " 'tontonan yg wajib ditunggu sehabi',\n",
              " 'ahok penyandang disabilita',\n",
              " 'jeda ahok djarot sapa ganjar pranowo ata panggung',\n",
              " 'sayang hyung pencitraan wkwk',\n",
              " 'msh inget sm penjual kue balaikota cm ahok yg tau klo si sakit langsung diuru r pencitraan',\n",
              " 'biar jajan sejuta',\n",
              " 'bio gw diganti astagfirullah rusak pencitraan cew cantik',\n",
              " 'ya ampun udh close statement msh aja commentnya ky gitu ya',\n",
              " 'hah uda close statement cepet bener',\n",
              " 'kali kerenbiasanya sesi tanyajawab kali sesi curhat',\n",
              " 'ketiga paslon gagal jawabannya memuji kebaikan paslon',\n",
              " 'mari berjuang sbyudhoyono utk memenangkan',\n",
              " 'jikapun aparatur dibe kyai santri oplosan dibe yng asli melawan ketidakadilan',\n",
              " 'pasangan unggul debat kandidat gubernurwagub dki jakarta malam',\n",
              " 'keberagaman dr hati terdalam dr pencitraan',\n",
              " 'membangun bangsa negara engga metoda pencitraan teruji rekam jejak integrita tokohnya',\n",
              " 'bersikap menjaga prilaku pencitraan orang',\n",
              " 'jujur yg curiga berbuat yg menuduh pencitraan bahagia yg iri abaikan',\n",
              " 'umat islam yg peduli agama mrk tdk tergoda dg trik2 konyol inshaallah umat islam sdh sadar',\n",
              " 'nani baswedan memiliki integrita kredibilita pemimpin',\n",
              " 'berita ahok penista agama penista agama kampani jakarta pusat',\n",
              " 'sadi berita ahok judulnya diawali degan terdakwa penista agama nama',\n",
              " 'kemarin berita penyakit meng babi mksd gw nyambungnya ahok',\n",
              " 'arti korea world tour ahmad dhani',\n",
              " 'ahok jakarta dage babi bali hubungan nya ya',\n",
              " 'ahmad dhani bangkrut ditagih utang video mantan istrinya janda kaya raya setahun',\n",
              " 'ahmad dhani sentil ahok eh sandiaga uno cengar cengir',\n",
              " 'hehh mengagumi sesorng kecuali rasulullah',\n",
              " 'acara uda abi debat sapa betulbetul memaparkan prog solusi',\n",
              " 'koruptor meletakkan kitab suci ditempat rendahtapi sok pemilik kapl surga',\n",
              " 'woww dukungan rakyat palestina ahok yg dituduhsbg penista agama mrk mengelu2kan ahok ahok is the best',\n",
              " 'pencitraan socm bolehboleh aja tanggung citra udh dibikin samp malumaluin kasian',\n",
              " 'kasu kicauan ahmad dhani dilimpahkan polr metro jakarta selatan',\n",
              " 'komplit bgt yaaaa heran nya msh aja yg percaya idolain',\n",
              " 'keadilan tercipta si penista agama voni penjaran',\n",
              " 'bro yg fatwa penista agama mui gak mengeluarkan fatwa',\n",
              " 'sidang menguatkan ahok penista agama bantah',\n",
              " 'ahok akademisi ahmad dhani intelektu intelek bang ani',\n",
              " 'yg penista agama sesungguhnya agama yg suci alat mengejar jabatan kekuasaan',\n",
              " 'kalah pilkada bekasi ahmad dhani juru kampani pasangan aniessandi',\n",
              " 'bravo close statement ani malam inikalau nggak debat nggak nonton mata najwa sdh tdk suka',\n",
              " 'ani bikin pa debat kemarin menarik nyambung',\n",
              " 'buzzer ahok kerja kera nihayo kerja2 tar gajian ga turun',\n",
              " 'kerendahan hati lawan kerendahan hati banget',\n",
              " 'gaya kayak sbi ya',\n",
              " 'kenyataannya si ani nyaman bgt dgn isu sara nguntungin ani pura2 sok bijak pdhl menikmati isu sara',\n",
              " 'nyesel liat debat bermutu mencela',\n",
              " 'kesimpulan tdk rela gub seorg ani sy percaya ahok menang salam 2 jari',\n",
              " 'ahok pana dingin ahok kalah debat ani',\n",
              " 'yg ga backsound penutup mata najwa musisinya judulnya',\n",
              " 'p ahok apapun utk rakyat p ani tkt dicurangi ngerti bedanya',\n",
              " 'mantapppp mata najwa diskusi hidup mendidik berkualita band debat yg selenggarakan kpu',\n",
              " 'mbak najwaayo ketengah sedikitjgn kiri dgn ani cpt2 menyelesaikan kalimat2nya',\n",
              " 'ributribut pribumi v non pribumi ramai beranda maksudnya',\n",
              " 'sedih liat ani tokoh kagumi',\n",
              " 'sp bisanya cm serang pribadi gak program yg dibanggakan',\n",
              " 'gimana nih om gedeg dengerin retorika ga wawasan gimana udah terlanjur ya',\n",
              " 'haduhhhh ani teru pendukung didatengin jakarta jakarta',\n",
              " 'haha ani pendemo2 dr jawa barat ga ngomen takut kalah ya haha',\n",
              " 'uno habi 62m istrinya ga marah ya mo beli sepatu 300rb aja istri marah2',\n",
              " 'suka menyerang perang ibadah menyerang orang',\n",
              " 'paslon 3 serang membawa2 hal2 yg menyerang tp paslon 2 tenang menjawabnya',\n",
              " 'aahhh akuh sedih akuh org depok ngga jakarta mani jahattttt',\n",
              " 'saludd utk mata najwa berbobot perdebatan malam',\n",
              " 'orang bertanggung tindakan menuai positif',\n",
              " 'dugaan penistaan agama dgn terdakwa murni isyu pilkada dki jakarta murni islam',\n",
              " 'kejujuran pahala surga sabar ya basuki',\n",
              " 'terima kasih pendidikan demokrasi rakyat indonesia jakarta',\n",
              " 'keberpihakan badan hukum merusak demokrasi',\n",
              " 'lo menceritakan kalimat2 yg dilontarkan ani dgn bahasa lo lo',\n",
              " 'liat sosm ahok menang telak sayang katakata mani yg diserap bbrp warga',\n",
              " 'mah basuki beba ya',\n",
              " 'debat ahok keliatan diata angin ya kliatan menguasai problem solusi tata kelola jakarta',\n",
              " 'lihat ahok kayak lihat power ranger merah',\n",
              " 'kesimpulan ahok spt foku detail program ani foku menjatuhkan lawan',\n",
              " 'pertunjukan seriu gak diganggu selamat gagasan nya',\n",
              " 'berpihakmelayani rakyat sepenuh hatituhan kekuasaan tuhan mengambilahok',\n",
              " 'ahok blunder pakdari udah bagu pertanyaannya komitmen menerima hasil kontestasi',\n",
              " 'jakarta selamat berjuang ahok ani',\n",
              " 'ahok debat program jlebb ko kena uppercut ani kjp pergubnya blm rubah',\n",
              " 'penganut agama dapet hak ahok',\n",
              " 'heran ilklan kampani yg terbaru loh bingung bkn akuangasiang ame',\n",
              " 'abi nyoblo stream video perkembangan pilkada 2017 pake kuota ga habi deh',\n",
              " 'muslim diuji negara yg mayorita islamsemoga smua bersabar menahan utk berbicara kasar sbg balasan',\n",
              " 'ani inget yg kau tabur kau tuai takut',\n",
              " 'metod penarikan sampel hitung cepat yg litbang kompa dlm pilkada dki jakarta 2017 simak',\n",
              " 'mnding diem aja pergerakanmu disalahkan klo wktunya menang ntar jga menang',\n",
              " 'perbincangan menarik quick count pilkada 2017',\n",
              " 'bersyukur menutup kampani berdoa pilkada dki jakarta 15 februari 2017 berjalan lancar',\n",
              " 'julia perez kecewa gagal nyoblo pilkada dki 2017 tp 15 rscm',\n",
              " 'disediakan ambulan pasien mencoblo pilkada dki 2017',\n",
              " 'pilkada 2017 kehilangan hak yg dijamin konstitusi',\n",
              " 'ya allah ani sandi gubernur dki jakarta terpilih',\n",
              " 'domisili gue jakpu belabelain tp yg berlokasi jakbar dgn bermod ektp ikutan pilkada 2017',\n",
              " 'presiden hak suaranya pilkada dki jakarta 2017 tp 4 gambir jakarta pusat',\n",
              " 'agr kekuasaan tuhan kasih dijatuhkan tuhan menaikkan',\n",
              " 'akibat nila setitik rusak susu sebelangga akibat mulut oknum terdidik rusak persatuan bangsa',\n",
              " 'mudahmudahan novel baswedan alami kebutaan matanya buta mendonorkan mata',\n",
              " 'merubah pemilih',\n",
              " 'yg salah ahok iklannya diprot orang yg benar2 pake spanduk',\n",
              " 'samp gue blm ngerti dp rumah 0 gmn skemanya tr emg ya perbankan yg ngasih kredit rumah gak pakai dp',\n",
              " 'ani gubernur pemimpin administratur pelayan masyarkt padah melayani mencerminkan integrita',\n",
              " 'kalimat penutup ani ambisiu ahok maaf karakt bohong',\n",
              " 'tdk terprovokasi dgn sentimen jualan sara mu cinta indonesia',\n",
              " 'umat suguhkan menebar kebencian kerukunan umat beragama',\n",
              " 'poll ani sandi menang semoga h nya',\n",
              " 'yg iklankan kampani ahox yg sebarin spanduk syariah brosur black campaign',\n",
              " 'oke oce brand dimana oke oce kampung oke oce',\n",
              " 'sungguh sgt mengherankan mengkampanyekan kebhinekaan tp menyebarkan islamophobia kebhinekaan yg yg',\n",
              " 'debat final pilkada dki jakarta gagap adjat sudradjat',\n",
              " 'pemimpin dikaitkan lisan bedanya gubernur anakanak',\n",
              " 'cerita djarot diharapkan pendukung berdamai',\n",
              " 'cuman bilang seriu banget ngetweet pakai hastag gitu aja baper',\n",
              " 'ira koesno didekati aniessandi marahi pendukung paslon debat pilkada dki',\n",
              " 'alhamdulillah ya allah swt semoga jakarta gubernur yg bersahaja bersahabat utk',\n",
              " 'jelang larut semalam diskusi aktifi golkar tingkat kelurahan bergabung pemenangan',\n",
              " 'sosok ani sandi diakui sgt mengayomi kompeten utk membangun kerukukan kebhinekaan jakarta',\n",
              " 'ngomong mani gampang giliran kerja bingung',\n",
              " '19 april warga jakarta menentukan ibukota',\n",
              " 'terimakasih ani pemaparantentang dp 0 solusi warga jakarta rumah nyewa',\n",
              " 'perhatikan tim ma sibuk ngoceh programnya gak nguru',\n",
              " 'kalo pilih gubernur yg jujur kerja nyataanti korupsitegaspintermlyani rakyat ikla peduli pilih ahok djarot',\n",
              " 'merangkul menegakkan hukum kepemimpinan hadir contoh perbuatan',\n",
              " 'hasil kerja ahok djarot sungai jakarta normal bersih enak dipandang',\n",
              " 'ahok ani baiknya bagusnya okenya yg kepilih yg menang rakyat jakarta',\n",
              " 'semoga basuki presidenagar indonesia maju',\n",
              " 'allah swt tdk butuh butuh allahrezeki hidup matimu allah yg tentukan khianati allah gak nyesel',\n",
              " 'dilanjutkan rekaman memuat kampani ahok dpp nasdem pulau seribu',\n",
              " 'ahok beba hukum keadilan kelanjutan perbaikan dki semoga hakim mmpunyai sen of justic',\n",
              " 'pembangkit listrik tenaga pana bumi terbesar dunia',\n",
              " 'toleransi muslim menjalankan perintah agamanya non muslim menjalankan agamanya',\n",
              " 'teman setia dihindari jd pemimpin',\n",
              " 'kejujuran pahala dr surga',\n",
              " 'sidang drama korea samp 20kali menunggu sidang ahok season 2 nih kayaknya goblin mah kalah pamornya',\n",
              " 'transportasi onlin manakah tarif murah aman nyaman melayani',\n",
              " 'nelayan jakarta disiapin pulau khusu pemda dki',\n",
              " 'adakah potensi radik pilgub dki jakarta',\n",
              " 'siaran ulang malam saksikan yuk',\n",
              " 'org yg salah yg takut dgn doa ituanda salah takut bertobatlah doa dinyatakan',\n",
              " 'selamat pagi met aktifita happi weekend semoga orang jujur biar hidup slalu mujur aamiin',\n",
              " 'ahok dituntut 1 penjara divoni beba warga dki terlanjur kehilangan pemimpin terbaik',\n",
              " 'alhamdulillah tuntutan jaksa 1 percobaan 2 yg sbnrnya jaksa mengakui kalo ahok bersalah',\n",
              " 'kalah menang terimakasih krn ngasih pelajaran kerja kera utk rakyat dgn bersih',\n",
              " 'pilkada serentak megawati intimidasi politik uang',\n",
              " 'aniessandiaga doa ustaz debat pilkada',\n",
              " 'lelah mengabdi indonesia',\n",
              " 'menang ani rangkul paslon menang kontestasi pilkada',\n",
              " 'tnipolri bersinergi jaga keamanan jelang pilkada dki tni polri bersin',\n",
              " 'bismillah inshaa allah agu sylvi menang pilkada dki 1putaran pemimpin yg amanah mencintai rakyat jakarta',\n",
              " 'trima kasih uda bikin jakarta menjabat',\n",
              " 'sikap ketertiban keamanan kota negara menjelang pilkada dki jakarta',\n",
              " 'rencana tuhan rencana manusia ahok b kebih posisi',\n",
              " 'kalah tp terhormat mendukung badja',\n",
              " 'basuki tp ahok wawancara inform wartawan balaikota',\n",
              " 'terimakasih ahok kalah selamat gubernur',\n",
              " 'lucu yuk ahok promosikan musik dangdut tamu mancanegara',\n",
              " 'minggu tenang pilkada ahok foku kerja balai kota peresmianperesmian rptra csr ditunda',\n",
              " 'mantab ahok pemprov dki jakarta terjunkan alat berat keruk sampah waduk pluit',\n",
              " 'pagi polrestro bekasi gelar pasukan pilkada',\n",
              " 'bantu sbg orang2 ahok beliau',\n",
              " 'ahok gubernur lupa bangun provinsi jambi lahan petani jln kreta api jambi riau lampung',\n",
              " 'partai nasdem optimi menang pilkada serentak 2017',\n",
              " 'biar kalah bangga sabar n ikla menerima nya bnyak jabatan ahok',\n",
              " 'sabar n ikla ya hasil nya dukung mna punjabatn yg bpk emban',\n",
              " 'wlaupun kenalsaya yakini slama tlah bkerja kra tuk nilai yg diperjuangkan',\n",
              " 'mgk b mendukung dlm kejujuran niat utk melayani warga gantiin dlm pekerjaan',\n",
              " 'puluhan personel brimob nunukan diberangkatkan amankan pilkada provinsi',\n",
              " 'sing sabar simpen energi indonesia gusti allah mboten sare',\n",
              " 'memilih sehat kompensasikan sarapan pagi uhm gak sehat impa',\n",
              " 'mahfud md heran uu pemda jela mendagri keukeuh pertahankan ahok',\n",
              " 'tuip sinta nuriyah mengeluarkan pernyataan terkait pilkada dki',\n",
              " 'jatuh hati deh berpal pilihan yg ahok djarotlah yg terbaik',\n",
              " 'yoi jela pemenagnya pasang calon buka 1 2 3 memiliki peluang yg',\n",
              " 'aksi 112 diubah zikir pilkada yg zikir ibadah dekatkan allah',\n",
              " 'pilkada kepentingan politik persahabatan persaudaraan terputu saudara',\n",
              " 'pilkada beltim kampung ahok 33 suara babel kalah telak pilkada dki 3 suara',\n",
              " 'ya allah beneran ahok samperin si emak',\n",
              " 'terimakasih 5 tahunnya 3 sbg wakil gubernur 2 sbg gubernur',\n",
              " 'kesimpulannya tuip mari menangkan agu sylvi putaran gak pakai 2 putaran habiskan',\n",
              " 'selamat kemenangannya ani sandi semoga jakarta bersatu',\n",
              " 'bangga memiliki putra bangsa basuki jarot',\n",
              " 'tementemen apapun pilihannya kehidupan pilkada mari merangkul jakarta maju bahagia',\n",
              " 'selamat statu barunya semangat ya semoga sesuai janjinya',\n",
              " 'ahok tetep semangat yaaa menghargai kerja kera ucapkan selamat kemenangan paslon nomor 3',\n",
              " 'terima kasih ahok djarot bangga perna pimpin berduatetap semangatsuk',\n",
              " 'terima kasih ahokdjarot',\n",
              " 'sumarsono gaya ahok yg kerja kera patut dicontoh bagu',\n",
              " 'klo jujur pake hati nurani ahok adlh yg terbaik jakarta gubernur yg jujur benar2 perhatian pd warga',\n",
              " 'ahok the best salut orang nya sabar cobaan tuhan ahok is the best',\n",
              " 'makasih ahok ajarkan makna peduli rakyat andai dpt kesempatan',\n",
              " 'hadeuuuh gaduh gini pilkada dki ya padah pilkada serentak 2015 aman aman',\n",
              " 'masyarakat transportasi jakarta dukung ahokdjarot',\n",
              " 'tertarik debat pilkada dki menarik salah cagub mengepalkan tangan menjela',\n",
              " 'semangat maju tuhan god bless you more and forev bpk ahok famili',\n",
              " 'selamat bertuga ani semoga jakarta',\n",
              " 'selamat ya tunggu program terealisasi kecewakan jakarta',\n",
              " 'mendoakan yg terbaik untk ucapan saudara gaza palestina',\n",
              " 'selamat untk bpk kemenangannya semoga allah memberkahi disetiap langkah yg ambil aminnn salam3jari',\n",
              " 'terbaik ajang debat terbuka',\n",
              " 'ani selamat ya terpilih jd gubernur wagub jakarta',\n",
              " 'kejahatan perbankan yg spin tim ahi kepentingan pilkada',\n",
              " 'agussylvi diprediksi maju putaran pilkada dki versi survey grp',\n",
              " 'alhamdulillah sambutan antusia warga blusukan ahok real ngga settingan',\n",
              " 'detik ahok harapan terbesar',\n",
              " 'tuhan rencana yg indah ahok djarot',\n",
              " 'selamat terima kasih ahok djarot yg menunjukan negara orang2',\n",
              " 'terima kasih kebaikan jakarta tancapkan hati warga jakarta',\n",
              " 'ani sandi menang',\n",
              " 'terima kasih pendukung percayalah tuhan terbaik',\n",
              " 'gubernur wakil gubernur terbaik jakarta miliki',\n",
              " 'jelang tuga plt gubernur dki akui kinerja ahok',\n",
              " 'pendukung dibaiat pilih agussylvi terima risikonya',\n",
              " 'mutiara mutiara ahok djarot tuhan pni rencana yg dahsyat utk ber2 utk indonesia maju',\n",
              " 'tuhan percayakan ahok gubernur dki jakarta',\n",
              " 'i love you ahokaku berdoa semoga tuhan memberkati salam 2 jari pa ahok i love you',\n",
              " 'survei terbaru aniessandi melejit tinggalkan ahokdjarot',\n",
              " 'akui ahok tangguh',\n",
              " 'mendukung berdoa untukmu ahokdjarot terimakasih',\n",
              " 'badj pelayan rakyatkami berdoa terbaik badja bangga memiliki',\n",
              " 'mudah2han ahok nomor indonesia',\n",
              " 'tp paslon pilkada dki dijaga ketat',\n",
              " 'penduduk jakarta kagum sosok ahok jarotallah rencana lainselamat beliau',\n",
              " 'ani tolong bongkar masjid yg bangun ahok daan mogot',\n",
              " 'blm move on mend bsk piknik aja mumpung long weekend heheh',\n",
              " 'semoga meneladani sosok bang yo gubernur jakarta cinta',\n",
              " 'pemimpin yg pemimpin yg mengerti jiwa pemuda lanjutkan',\n",
              " 'mendulungmu jakarta yg maju ekonomi nya prestasi sepakbola nya',\n",
              " 'negara negara bhineka tunggal ika ga liat pemimpin agama ra budaya',\n",
              " 'mendulungmu jakarta yg maju ekonomi nya prestasi sepakbola nya',\n",
              " 'gw patungnya tanda jasa indo madam tussaud',\n",
              " 'doa yg baik2 tuhan klo doa jelek jahat berbalik yg mendoakan loh',\n",
              " 'jakarta butuh indonesia menunggu pengabdian',\n",
              " 'artikel ma reklamasi penggusuran dp 0 rupiah oke oce figur pemersatu',\n",
              " 'terbukti teruji segi kerjanyaahok dki jakarta',\n",
              " 'ga tinggal jakarta sih tp 1 rumah ngotot banget dukung',\n",
              " 'semangat pilkada untukmu pilihanmu untukku pilihanku',\n",
              " 'perbedaan vital reklamasi perumahan gak berkutik',\n",
              " 'sabar jgn tergesa2 nagih beliau dilantik oktob',\n",
              " 'knpa ngga mampir orangtua ngefan bgt',\n",
              " 'semoga maju gubernur era',\n",
              " 'masyarakat jakarta jakarta baikdan hasilnya terbukti',\n",
              " 'masyarakat jakarta salut kepemimpinan ahok',\n",
              " 'sayang ahok berharap ahok presiden jokowi',\n",
              " 'milik jakarta ahok milik membangun jakarta',\n",
              " 'ahok cagub bekasi aja ya bekasi dipimpin orang biar perubahan',\n",
              " 'kekalahan ahok kemunduran peradaban indonesia selamat radik akal sehat dinegara',\n",
              " 'semangat ahok berjuang sekuat tenaga berusaha terbaik terima kasih',\n",
              " 'terima kasih mengabdi dijakarta segudang permintaan warga',\n",
              " 'menyakitkan ya semoga semangat kedepannya',\n",
              " 'menang menikmati kerja kera menjabat terima kasih ahok',\n",
              " 'miri ya ahoksuk slalu my idola ahok',\n",
              " 'gue suka ahok bantuin jokowi ngurusin indonesia cepet maju jakarta',\n",
              " 'pngn peluk bilang semangat ya mendoakan yg terbaik',\n",
              " 'aya warga jakarta tp jakartasaya bangga jakarta pegang rapih',\n",
              " 'seyogyanya pilihanku karna pencerahan pd sistem birokrasi',\n",
              " 'ahok gubenur dihatiku',\n",
              " 'lahir jakarta samp detik gue liat kali pintu air manggarai bersih sampah ya pa jaman jokowi samp ahok',\n",
              " 'gpp kalah belom rejekinya ya pemimpin jujur berkarya nyata',\n",
              " '20 tinggal jakarta 5 benarbenar perubahan sadar akitbat gubernurnya',\n",
              " 'cinta ahok terimakasih ya jasajasa kerja 5',\n",
              " 'semangat ahok terimakasih yg jakarta suk ahok',\n",
              " 'ahok mendukung apapun',\n",
              " 'terima kasih kinerja kera ahok team memimpin dki jakarta semangat god bless famili',\n",
              " 'ahok sosok banggakan terimakasih merubah jakarta',\n",
              " 'semoga ahok dlm lindungan tuhan sayang ahok ahok orang',\n",
              " 'terima kasih basuki sejarah mencatat membawa perubahan warga jakarta',\n",
              " 'lanjutkan perjuangan orang ditempatkan yg',\n",
              " 'kau terhebat karna kau inspirasi pengalaman berharga',\n",
              " 'ahok berkarya kesempatan 2019',\n",
              " 'setuju kalo gubenur kerja bagu kerena kerja basuki keluarga mendukung basuki',\n",
              " 'yg terbaik jakartaterima kasih yg kerjakan semoga allah meridhoi langkah',\n",
              " 'jabatan yg terpent orang terhebat jakarta kerja kera ahoksekali terima kasih ahok',\n",
              " 'ahokwalau warga dkisaya sedih terpilih lg jd gubenur dki',\n",
              " 'bpk gubernur satunya yg membawa perubahan jakartasemangat',\n",
              " 'ahok mendoakan ahok pagi jam 3 kecewa hasil pilkada',\n",
              " 'kalah menang kekuasaan tangan tuhan ahok menjual iman ahok jabatan',\n",
              " 'terimakasih ahok djarot kerja tulu kerasnya jakarta',\n",
              " 'media ase menyorot hasil pilkada jakarta',\n",
              " 'ahok belajar pilkada dki',\n",
              " 'pelajaran dipetik ahok pilkada dki',\n",
              " 'ahok lupakan kampani pilkada',\n",
              " 'presiden percaya pilkada dki hasilkan pemimpin terbaik',\n",
              " 'kapolri pastikan pilkada dki berjalan lancar sejuk',\n",
              " 'pengamat pilkada dki pana parpol sulit disiplinkan massa',\n",
              " 'parpol pendukung ahokdjarot komitmen jaga pilkada damai',\n",
              " 'amankan pilkada dki polisi terapkan sistem pengamanan',\n",
              " 'instansi keluarkan maklumat larangan mobilisasi massa pilkada dki',\n",
              " 'baju dipakai ahok debat pilkada yg tonton metro tv tv one barusan cek',\n",
              " 'warga negara lo wajib mensukseskan pilkada jakarta 2017 temukan performa berbeda debat pilkada 7',\n",
              " 'debat menentukan elektabilita pilkada dki putaran',\n",
              " 'terima kasih ahok jasa2 membangun jakarta',\n",
              " 'salut banget sm ahok benar2 berjiwa kesatria langsung selamat pasangan ani sandi',\n",
              " 'keluarga hak pilihnya pagi lupa warga jakarta tp jam 1 siang',\n",
              " 'terima kasih jakarta semangat',\n",
              " 'orang jahat jatuh orang dibangkitkan',\n",
              " 'dijatuhkan berkali2 tuhan mengangkat yg',\n",
              " 'rencana surga indah yangg ahok semangat ya',\n",
              " 'basuki djarot kuat didalam iman pengharapan',\n",
              " 'jalan terbaik sekedar gubernur wakil gubernur dki',\n",
              " 'masyarakat indonesia khusu dki pemimpin hasil kerjanya',\n",
              " 'rakyat indonesia bera dki mendoakan semoga basuki djarot lelah melayani semangat',\n",
              " 'padam kemanusiaan ya mengenang mani yg perjuangkan',\n",
              " 'doakan ahok tamengnya kejang2',\n",
              " 'semangat ahok dukung ahok djarot',\n",
              " 'pemenang debat pilkada dki malam ira koesno',\n",
              " 'selamat pasangan no 3 aniessandi pemenang versi quick count terima kasih ahokdjarot kerja jakarta',\n",
              " 'semangat ahok warga bandung ahok yg juara',\n",
              " 'yg kerja kera jujur ahok',\n",
              " 'maaf ikutan nyoblo ktp jakarta skrg tinggal bandung berdoa',\n",
              " 'semoga ahokdjarot melanjutkan visi misi nya membangun kota jakarta rapih bersih nyaman',\n",
              " 'nama tuhan jakarta yg',\n",
              " 'semagat ani semoga rahmat tuhan yme',\n",
              " 'warga dki hak pilihmujangan takut smua warga yg hak sehat lahir batin',\n",
              " 'semoga tuhan masyarakat dki jakarta keadilan sesuai pemimpin yg benar2 rakyat amin',\n",
              " 'ek pendukung agussylvi jakarta timur deklarasikan dukungan ahokdjarot',\n",
              " 'salah jokowi ahok kafirkafir atei',\n",
              " 'biar aja biar tai nya kena lo ya loh tuh gak suka sm ahok biar loh sm bpk loh sm loh kena tai nya',\n",
              " 'angin memporakporandakan basi pemenangan si penista agamacililitannya alloh ampuni kamin',\n",
              " 'prestasi ahok nselain mjadi mafia koruptor n penista agama bhasil tenggelamkan jkt congoran cebon',\n",
              " 'ulama kompak nyatakan pilih ahok murtad',\n",
              " 'kau pendikan bodohgk larang bawa agamabiar orang islam yg bayar ahok sadar gk milih ahok gla',\n",
              " 'tanah abang cina udah resah stre gara2 si penista agama pilkada pasar jd sepi sepi 2 minggu lg ha ha',\n",
              " 'yg menentang si cina kafir ahok kriminalisasi polisi dgn smua rekayasa hukum nya',\n",
              " 'ga habi pikir fanboy ahok bego bego ya ga ngerti sejarah gampang kejebak iklan maaf ya',\n",
              " 'pilih ahok drpd pilih yg iman tp koruptor dn munafik bodoh kau',\n",
              " 'ahok si penghina al quran ulama bersikap menjijikkan sok suci',\n",
              " 'ayo umat islam yg pinter jgn percaya klo aksi 112 tdk hubungannya dgn pilkada ahi yg bayar ani yg untung ud83dude01',\n",
              " 'mampuuuusssssss mpok silvi',\n",
              " 'hidup china komuni',\n",
              " 'tuh kesalahan jokowi ahok si babi atei',\n",
              " 'kalo ahok menang pilkada bikin video sex bareng anaknya tan',\n",
              " 'keluarga berdomisili jakarta pilih ahok suara ulama bulat',\n",
              " 'ketutunan cina kota pulau kejakarta coblo ahok ktp aspal kamboja',\n",
              " 'china babi china malingn',\n",
              " 'memilih agussylvinanaknya sbi keluarga koruptorn n u2026',\n",
              " 'tangkap ahok klompok nya yg pemalsuan e ktp karna penghiyanat bangsa negara',\n",
              " 'tangkap ahok share setuju',\n",
              " 'sayang bangsa pale jago merasarasa yg mendukung ahok yg mendukung ma ani suci',\n",
              " 'video ahok menghina agama kristen agama konyol',\n",
              " 'penista agama jpu ahok pemecah belah bangsa',\n",
              " 'mbak sylviana plea sehat',\n",
              " 'nomor 1 sok tau lansung skak wkwkwk',\n",
              " 'ayoo jaga keutuhan nkri tangkap penista agama',\n",
              " 'salah pendukung mafia koruptor penista agama gerombolan banci titot lakukan bidikan arah',\n",
              " 'tobat yuk terlambat biar gerombolan jil aja yg doakan konsisten bela kekafiran hayat',\n",
              " 'ya allah menempuh cara2 curang utk memenangkan si penista agama engkau kirimkanlah malaikat maut utk menyelesu2026',\n",
              " 'kebanyakan fitnah nih mpok silvi',\n",
              " 'fpi pendukung ahok kalah izin allah gusur gubernur koruptor penista agama',\n",
              " 'pemimpinnya gak akhlak yg penista agama',\n",
              " 'twit asik lo tau akunakun propenista agama akunakun buzzer kerjanya menghujat',\n",
              " 'ahok bela penista agama',\n",
              " 'cucunya dajjal hadir',\n",
              " 'siang malam maki2 ulama nongkrongi medso ulama2nbela penista agama yg sombongnya ampun',\n",
              " 'mayorita etni china dkinmengapa solid mendukung penista agama islamnndendamntidak nasionali',\n",
              " 'mukanya mpo silvi asem bangett ngakak kena deh abi jahat sih',\n",
              " 'gara2 belain terdakwa penista agama remek sukurin',\n",
              " 'sekumpulan teman penista agamantdk empati korban banjir koar2 memuji junjunganya',\n",
              " 'penjarakan penista agama turun',\n",
              " 'si penista agama jaga mulut aja gabisa jaga jkt',\n",
              " 'ahok program paslon no 1 programnya ngambang yaiyalah pakkk gak program diaa cma celaan',\n",
              " 'akui ahok djarot gagal atasi banjirorang kena banjir sibuk sidang penista agama',\n",
              " 'iyaa ahog ngak pant pemimpin pantesnya penista agama dipenjarakan',\n",
              " 'overdosi membela penista agama',\n",
              " 'kaga masuk diakal kite kalo suara penista agama yg dah dikutuk ame umat islam suara nye emang sengaja ditinggiin tuh',\n",
              " 'pantasan pecat dr menteridata2 aj ngawur memkasakan betulhahaha',\n",
              " 'penjarakan ahoax penista agama jokowi turun',\n",
              " 'napa dibiarin tim si penista agama maen curang maren emang sengaja dibiarin biar ntar digaplok umat islam rame2 jakarta tuh penista',\n",
              " 'hahahahhahaa silvi ohh silvi cacingan loe ahhh wkwkwkwkwkk',\n",
              " 'ahok taik menfitnah emang lu tukang caci maki perempuannn asuuu',\n",
              " 'fakta bilang fitnahn',\n",
              " 'shame on you silvi ga malu fitnah tuh rasain ahok pana skak mat',\n",
              " 'bu silvi anti pn level rendah',\n",
              " 'orang islam bodoh goblok memilik ahok',\n",
              " 'fitnah fpi pecah ulah ahok yg elektabilita ahok tinggal 10mereka kelojotan muinumuhammadi',\n",
              " 'norak banget iklan mantan mendikbud gak respech tenun kebangsaan yg maksudu2026',\n",
              " 'yg nebar kebencian ahok mbakmasa mbak gak tau sih terdakwa loh',\n",
              " 'bu sylvi gak mutu',\n",
              " 'huuu sylvi apaapa ngoceh',\n",
              " 'sylvi keliatan bloonnya',\n",
              " 'ahoax penista agama mengolok olok surat almaidah 51 cc',\n",
              " 'pemimpinnya gak akhlak yg penista agama',\n",
              " 'mati kau hok',\n",
              " 'yg ga program bisanya fitnah ciri orang yg demen ngambil kjp kontan',\n",
              " 'mpok silvi nyinyir melulu nya sayang sesat maklum sih dese emakemak',\n",
              " 'hahaha jelas2 pilkada dasar polisi made in cina pelindung penista agama',\n",
              " 'kurangnya pemberdayaan wanita dki jakarta telaknya perbedaan warna muka warna tangan mpok sylvi',\n",
              " 'agu silvi tukang fitnah',\n",
              " 'yaudah gu kalo ga sakit fisik verbal gw gebukin lo rame2',\n",
              " 'keluarga gak yg male coyi gak trauma kaleee emang kluarga ent',\n",
              " 'jg kaitkan jokowi ahok johan budi jokowi anj ahok babi ya jela berbeda otaknya',\n",
              " 'bajingan lu silvi',\n",
              " 'hasil melindungi ahok terdakwa penista agama',\n",
              " 'selepa banjir jakarta 212 pendukung ahok mengganti narasi doa keuntungan sang penista agama',\n",
              " 'tionghoa kaya putu sekolah kebanyakan dugem',\n",
              " 'gusur ahok indonesia teladan buruk pembangkangan hukum anti kemanusiaan jakarta jgn tertular daerah',\n",
              " 'ahok takut matinya gg disholatin tenang abu janda ust gadungan yg sholatin ahok jokow',\n",
              " 'mampuuss tembak dalem banget silvyy lo urusin tuh dapurr gak program demennya nyerang',\n",
              " 'anjir kali lihat orang bego debat pilkada kerjanya nyerang karakt shame on you mpok silvi and agu',\n",
              " 'uang taipan tuh dibayar ratusan penggusuran biadab ahok',\n",
              " 'cina asu',\n",
              " 'ngomong sylvi keliatan oke didebat ahok sylvi langsung kekuatan goblok',\n",
              " 'banjir tuhan aja dilawan ahok jakarta banjir genangan',\n",
              " 'pemimpim pribumi knp pilih pemimpin impor yg g beradab tukang berbohong yuk pribumikan dki milik bangsa ind',\n",
              " 'karna ga program modal bacot doang',\n",
              " 'pendukung dr penista agama dukung gerakan 100',\n",
              " 'narkoba yg berbahaya ilusi kesucian ahok sang penista',\n",
              " 'emang ahok orang penista agama',\n",
              " 'cina mah duitnya hasil male indonesia balikin lgi berkedok invest plu bawa gembel2 napi cina negeri nenek moyang ahok',\n",
              " 'tangkap ahok skrng koruptor reklamasi jakarta penista agama islam',\n",
              " 'keliatan banget bego nya mpok silvi and agu',\n",
              " 'yg ahok klo gak seneng ama cuitan gw silahkan unfollow krn gw anti ahok si penista agama islam',\n",
              " 'agama nistakan ulama lecehkan alasannya',\n",
              " 'serang ahok kafir galak',\n",
              " 'anjing2 ahokkaum babi lo bnyk bacotmnd duel sma gw',\n",
              " 'ahok verbalnya kera pelampiasan pelarian kelelakiannya lunak',\n",
              " 'yg male china2 babi blbi korupsi nya triliunan si ahok korupsi 2 triliun',\n",
              " 'mimpi djan farid jakarta islami aceh ahok terpilih babi merindukan halal',\n",
              " 'ridwal kamil hebat top nggak kaya ahok tukang penista agama koruptor',\n",
              " 'si ahok kutil babi',\n",
              " 'dasar si kutil babi ahok tukang bohong bohong ahok jg menyalahkan yg menutupi kegagalan nya contoh banjir',\n",
              " 'si terdakwa penista agama alia si ahok babi jamban tuh morfotin uang rakyat jakarta',\n",
              " 'omahoknyamana omkatanya si babi ahok ngatasi banjirombabi jgn membual om',\n",
              " 'anak babi jalan nya nundukkarena malu liat ulah nya ngebelain ahok',\n",
              " 'perilaku si babi benci dgn berbau islam cocok dgn ahok',\n",
              " 'ahok si kutil babi rumah lembang jakarta banjir bud',\n",
              " 'orang cerda pintar pilih orang imam memimpin sholatbisa ngajisantun sopantidak babi kafir ahok',\n",
              " 'teman ahok emank tai pemimpinnya kek babi',\n",
              " 'babi ahok yg ngejek onta biar injek2 ama onta',\n",
              " 'stigma babi milik tuhan elu si ahok kafir',\n",
              " 'kampungan ya pendukung ahi',\n",
              " 'udah lu jgn panik gitu ahok si kutil babi tumbang putaran teruskan cuapcuap mu sosm gak ngaruh',\n",
              " 'ahok layak manusia babi yg akal pikiran jiwa manusiawi',\n",
              " 'ahok btp basuki tai babi',\n",
              " 'yg cacimaki penista agama ketauan poligami ngumpet2 digituin sih ogah',\n",
              " 'iya trump penista agama anti islam emang hubungannya dgn ani',\n",
              " 'aseng koplo pembela si penista agama yg durjana nyuruh org ngaji',\n",
              " 'kebodohan penista agama pilih pemimpin yg shalat 5',\n",
              " 'pilih ani sandi doongjgn pilih si penista agama pemecah nkri',\n",
              " 'emang terdakwa penista agama salahnya dimana coba kl yg bikin hoax metrotipu aman2 aja tuh dewan pere',\n",
              " 'pamor rk seakan parpol pengusungnya pendukung penista agama',\n",
              " 'si ahok pantasnya dinobatkan sbgai babi ngepret',\n",
              " 'yg salah menuli terdakwa penista agamacoba klo dituli baginda mulia ga masalahcuih',\n",
              " 'faktanya cina2 parasit tuh ngotot belain si penista agama',\n",
              " 'jokowi ratu adil ga keturunan darah biruadanya darah kotor cina babi',\n",
              " 'keren nih app kawal tp yuk gabung pastikan cagub terdakwa penista agama cepat diantar kehabitatnya',\n",
              " 'lo gak tau apaapa ya berkoar sembarangan keliatan banget lo beneran bego',\n",
              " 'ahmad dhani terhormat babi anj a kontol lont tungu nya karier mu habi',\n",
              " 'kang fakta inipartai pendukung si penista agama dibenc rakyattermasuk rakyat jabar',\n",
              " 'pli sok kecantikan pacarin artis2 meletek jijik gw liatnya',\n",
              " 'muntah liat lagak nya orang sok iye banget hoek',\n",
              " 'ngomong ahmad dhani monyet babi anj',\n",
              " 'perempuan kaya lo mend mati aja deh jelek aja gausa sok make up artist',\n",
              " 'ahmad dhani borok sampah babi anj orang yg muak liat muka dhani berbangga',\n",
              " 'emang sdh jelas2 si ahok terdakwa penista agama malu woy',\n",
              " 'keputusan erka hormati memilih partai pendukung penista agama',\n",
              " 'lupakan biarkan karam dg kapal munafiknya bangun jabar dg kapal yg bersih delet partai pendukung penista agama hati',\n",
              " 'dunia nafsu ya kang kata2 bersayap kayak burung hantu',\n",
              " 'penista agama santri kehormatanyang kasih ahok otaknya direparasidemi pulkada nama santri yg kailan jual belikan',\n",
              " 'payah banget maju jabar1 pakai partai nasdem pendukung penista agama ent butuh uang ya kang payah loe',\n",
              " 'polisi yg imam sholat penista agama bodoh berislam ikut2an copot kapolr jakbar',\n",
              " 'kebodohan penista agama pilih pemimpin yg shalat 5',\n",
              " 'gak habi pikirnntingg nunggu adzab allah nih negeri pemimpinnya sdh dzalim',\n",
              " 'lu kampung didatangi penista agama',\n",
              " 'setuju sayaklau ahok gelar santri kehormatan santri kehormatan babi',\n",
              " 'senang yg fan mati lupa bego banget',\n",
              " 'lo tuh babi anj kalah jatuh miskin deh',\n",
              " 'si ahoak cina anj kafir penista agama islam',\n",
              " 'anj kpd ahmad dani bolehaku babi kpd ahmad dhani',\n",
              " 'haha memaki melawan mah drpd ditinda pemimpin munafik melindungi penista agama dll agama no 1 islam taubat rot',\n",
              " 'pikiran anak ban kampret g beda sma penista agama penfitnah penipu garong',\n",
              " 'yg cew pake kerudung ngapain ya kali konfrensi aja pencitraan islami kaliiii bwahaha',\n",
              " 'spt ahok nasdem disusul dg c nya yg mendukung paslon penista agama tukang caci maki tai tai',\n",
              " 'kalo mecin dijadiin cemilan mangkannya kang begonya bego banget',\n",
              " 'cm didoain mah ketemu si penista agama langsung ceburin laut yg direklamasi ijin sembunyi2 tumbal reklamasi',\n",
              " 'cabe2an nya bbmn facrbookn politik tau doi tau nya berita2 sampah pencitraan',\n",
              " 'manusia anj matimatian rela murtadz babi ahok kafir',\n",
              " 'ahok jamban yg dibela aparat kristen china kafir berani menghi',\n",
              " 'resah jd presiden hidup penuh drama pencitraan main ftv aja joko judulnya',\n",
              " 'percya lagisdgkan induknya penista smp skrg lum ditahan tp dibela',\n",
              " 'mari muslim cyber armi skrg ganti sebutan ak terdakwa penista agama',\n",
              " 'orang islam suka si hoax penista agama menjaga lisan tindakan halhal merusak hubungan',\n",
              " 'negeri korup diasuh cino babi',\n",
              " 'hajar bleh bela cuihhhhhh',\n",
              " 'cebong gendheng ngamuk2 belain si homo penista agama hahaha',\n",
              " 'tolol yg bela penista agama tersangka',\n",
              " 'orang saksi anj dikasu babi tolol',\n",
              " 'si ahok kampret emang gak becu kerja pencitraan mlulu tuh si ahok kampret',\n",
              " 'tanda2 kiamat x yak aja orang muslim yg mengingkari alquran pilih penista agama',\n",
              " 'ahok sumber kekacauan politik ramaikan aski 313 fight',\n",
              " 'ani sadi topengmu terbuka lebar malam biar warga dki yg menilaiapa yg pengecut',\n",
              " 'ani congornya aja gede realisasinya gak janji bisanya korupsi dosen aja bangsat',\n",
              " 'hebatnya ahok salaman loh sm ani terhormat idih gw sih ogah',\n",
              " 'urusan bacot ani nya juaranyamemang makan bacot jakartahahapaslon yg aneh gede bacot doang',\n",
              " 'ani omdo jd menteri terobosannya skrg ngomong ky sok jago bgt',\n",
              " 'si cina babi ahok bloon banget sok pinter banget ahok',\n",
              " 'lucu banget ahok gak nyambung kena skak mat d isu agama tdi dasar cina tolol hahaha',\n",
              " 'topeng fix terbuka dgn yg mendukung bau busuk',\n",
              " 'ani suka nyinyir suka memutar fakta ga program yg bisanya jelekkan kinerja basuki',\n",
              " 'babi iya si ahok gak kayak babi',\n",
              " 'si tengkuk babi sipit bangk agen dajjal onta hahaha orang wara tau ahok dipaksakan',\n",
              " 'ahok kafirumat islam anti ahok ahok kafr ditambah ahok cina yg suka makan babi bir',\n",
              " 'gw bilang babi ahok kafir gw pengen gerombolannya babi ahok merasakan bagaiamana klo anjing2in bangsat2in',\n",
              " 'sibabi china biadab memperlakukan kaum pribumi jongon2 spt banser nu nusantara mendukung ketimpangan biadabnya mrk',\n",
              " 'ahok kafir takut debat rakyat asli pribumi nelayan pakar reklamasi rakyat ahok kafir bencong',\n",
              " 'nampaknya paket penyokong cina babi sokong lgbt',\n",
              " 'kebiadaban ahok cina kafir anak2 rakyat pribumi ibu2 islam digusur rumahnya kehidupannya',\n",
              " 'tim ahok yg otak wc otak tumpul ani sdh komit dgn pancasila ahok kafir sgt tdk b berpancasila',\n",
              " 'ani meninggalkan ketenangan ketulusannya debat malam mjd agitatif licik semoga kalah kau anj',\n",
              " 'prose waspadai ulama2 kubu ahokyakni ulama2 munafik sesat menyesatkan',\n",
              " 'ani merangkul dua2nya persatuan spt ent dangkal cekak intelektu budak ahok kafir',\n",
              " 'kebiadaban ahok cina kafir rakyat yg pkl asongan2 digusur2 dianiaya spt terori ahok kafir biadab',\n",
              " 'kenyataanya jutaan rakyat asli pribumi yg miskin dimiskinkan ahok cina kafir',\n",
              " 'indonesia yg dibulli org yg beneryg salah binatang2 nomor dibiarin berkeliaran an',\n",
              " 'smg sipenista agama n ateknya matinya tdk wjar n jasadnya tdk dtrma tnh n tdk prnh mr kn sorgaaamiin semoga tuhan setuju',\n",
              " 'iyakelasnya penista agamab nya cm ngebacot doang yg arogan sk blg taik nenek luoh ya sumber wara n nama d e ktp apkabarskakmat',\n",
              " 'penjarakan cina kafir atei ahok pemimpin babi tukang korupsi',\n",
              " 'kampani rasi ngmg nya ahok yg untungkan goblok kafir untungkan perkosa bunuh lu enak berduit',\n",
              " 'hahaha idiot bilang kpd orang2 kafir terurama nasrani pendukung2 ahok kafir memasuki wilayah2 syariat islam',\n",
              " 'i hasil makmak jual pukinya kslian yg berpihak pki si ahok anak china anj kafir nkri',\n",
              " 'tim pendukung sakit jiwa kehilangan akal sehat ide',\n",
              " 'hati hati prustasi memainkan kasar hasil survei si penista agama kalah',\n",
              " 'hookk masuk gorong aja loe',\n",
              " 'kayak gini nih kampani tim aniessandiuno kampung2 mengintimidasi masyarakat kampungan ye',\n",
              " 'si kutil babi melecehkan pribumi umat islam',\n",
              " 'ngomong aja ent kaca memecah belah kerukunan hok ent bisanya ngaco',\n",
              " 'terorist nyata indonesia wahabi onta babi babi milik cina penebar teror sesungguhnya',\n",
              " 'sadarlah anak bangsa pertiwi diporakporandakan manusia biadab aktor utama',\n",
              " 'gerombolan rindu kerusuhan hati2 dikabul tuhan',\n",
              " 'ahok and bani serbet and wereng coklat memanc umat muslim marah kumpulan orang sint',\n",
              " 'direzim jokopretsetaniblisdajj dibangkitkan dr kuburnya gembira berpesta pora dibelenggu',\n",
              " 'anti cina ganyang cina tuh siapaaaa anti ahok sang penista agama',\n",
              " 'udah bingung kalik pakai kampani sampai2 bikin fitnah kayak begituan depresi ya takut kalah',\n",
              " 'tahukah persamaan malin kundang ahok berdua samasam durhaka',\n",
              " 'haduh kelakuanmu hok soksokan menjaga keberagaman padah provok rasi',\n",
              " 'bikin darah mendidih bangsat penuh propaganda emang lo islam radik',\n",
              " 'kapolda babi biadap bodoh gak otak kali',\n",
              " 'jangan2 deh hina islam manusia hina dibandingkan agama mulia siapa2 apa2',\n",
              " 'ahok kafir budak2nya anjing2 nya sampah agama islam sampah masyarakat',\n",
              " 'umat agama islam dijakarta haram naji ahok kafir kristen',\n",
              " '19 april cnn kibarkan bendera kune kematian ahokdjarot',\n",
              " 'akibat ulah orang2 kafir nasrani persi ahok kafir yg melarang jilbab anak2 sekokah jakarta',\n",
              " 'baswedan gubernur jakarta komis kpk ahok kafir pantasnya germo alexi',\n",
              " 'klo ganyang beneran hokitu sih maunya elo ya hokadu domba pribumi tionghoajangan',\n",
              " 'djarot memikirkan rakyat pribumi bisanya membabu kpd cina2 betul2 songong jongkok',\n",
              " 'otak wc otak babi yg menerima ahok kafir ahok kafir bkn sekedar menghina sdh anggap islam sampah',\n",
              " 'putaran ahok kafir curang umat islam komitmen jakarta dijadikan lautan api mikir hukum',\n",
              " 'ahok menciptakan bara api rakyat pribumi tionghoa yg dibalut phobia ahok kafir rasi',\n",
              " 'heran pemerintahan jokowi budaknya kulinya cina2 ahok kafir 9 naga',\n",
              " 'ya namanya cawgub goblok gak ngerti peraturan debatkelihatan bego liciknya sandiaga uno',\n",
              " 'bodoh pendukung ahok yg muslim tersinggung aja sih quran d hina mrka diam',\n",
              " 'gubraaaaak malu liatnya untung semalem debat ga kaya mata najwa coba kalo formatnya ringsek dah pasangan asu',\n",
              " 'yg jela otak ahokdjarot tumpul loyo stress jebol haru dicopot diganti',\n",
              " 'ahok kafir male garong lahan laut milik nelayan dirampok dirampa reklamasi yg menguntungkan cina2 kafir',\n",
              " 'sumpah bego bgt sih kesel gue org yg vote makhluk kayak sandiaga uno coba oh agama',\n",
              " 'responden2 yangg goblok2 faham wartawan beritasatu goblok klo aniessandi memimpin mudah',\n",
              " 'fpi renovasi masjid ahok kafir kristen ngapain ngurusi masjid2 hubungannya',\n",
              " 'ahok kristen munafik berhenti mengolok2 gereja stiap dibrief ahok menghina si bumi datar',\n",
              " 'uma surveynya si botak yg menangkan ahok cina kristen bukti kalo si botak dukung cina kristen',\n",
              " 'ahok pemecah belah ummat ajaran kristen konyol meraup suara muslim jela ahok rasi pki tulen',\n",
              " 'woy lu udah nonton fitnah pale lu peyang gym',\n",
              " 'ahok memilih pemimpin berdasarkan agama melanggar konstitusi babi bungku aja congornyapecah belah umat beragama',\n",
              " 'pribumi kristen mendukung ahok anti manusia2 bodoh goblok steven hadisurya sulistyo',\n",
              " 'maksudnya terbukti korupsi penistaan agama nya ya om bangsat lo taik lo maaf gw pake bahasa babi ahok',\n",
              " 'ehh taik bangsat lo omongan elo kayak iwan bopeng yg mo potong leher tni bangsat lo iwan bopeng baek2in tni taik lo',\n",
              " 'ehh anak anj ahok kelan blon siuman mend emut2 bool basuki aja kasih tau babi yg bool basuki wangi gitu',\n",
              " 'cwe cakep tp begop gk lakusi ahok cina bau taimakan bubur encerahok faham komunismenista islam kristen',\n",
              " 'ajeng paham si babi ahok klo bicara santun bangsat taik anj setan lo dngn intonasi yg familiar tuntuna',\n",
              " 'bunuh aja yg didepan mata mafia koruptor nya penista agama panggilan popular nya babi ahok',\n",
              " 'gimana dgn sumber wara tran jakarta ko jokowi diem ajah si kutil babi ahok ganyang',\n",
              " 'muka si babi ahok tuh yg serbet lantai btp',\n",
              " 'bang hancurkan merka bang musnahkan china babi dibumi pertiwi indonesia berkedok reklamasi ahok',\n",
              " 'sapa yg bilang ahok anti korupsi klo grombolannya ngomong gtu wajar ahok mafia koruptor sang penista agama yg dilindungi istana pki',\n",
              " 'gw ngimpi sentilin biji babi ahok pcetar pcetar langsung kejang2 die ngadu jkw jkw makani sunat bru ngomong almaidah',\n",
              " 'mudah2an gw ketemu si babi iwan bopeng tp nya anj ahok']"
            ]
          },
          "metadata": {
            "tags": []
          },
          "execution_count": 343
        }
      ]
    },
    {
      "cell_type": "code",
      "metadata": {
        "id": "7iWpK3EmFShI"
      },
      "source": [
        "def tf_idf(data):\n",
        "  vectorizer = TfidfVectorizer()\n",
        "  return vectorizer.fit_transform(data)"
      ],
      "execution_count": 344,
      "outputs": []
    },
    {
      "cell_type": "code",
      "metadata": {
        "colab": {
          "base_uri": "https://localhost:8080/"
        },
        "id": "oMJ5bpqDGF54",
        "outputId": "7e8015f4-6704-4ef0-bae0-2d9a05085d6d"
      },
      "source": [
        "Label = pd.DataFrame(data=df, columns=['Label'])\n",
        "X_train, X_test, y_train, y_test = train_test_split(df['clean_tweet'], Label, test_size=0.25, random_state=1)\n",
        "print(X_train.shape)\n",
        "print(X_test.shape)\n",
        "print(y_train.shape)\n",
        "print(y_test.shape)"
      ],
      "execution_count": 345,
      "outputs": [
        {
          "output_type": "stream",
          "text": [
            "(527,)\n",
            "(176,)\n",
            "(527, 1)\n",
            "(176, 1)\n"
          ],
          "name": "stdout"
        }
      ]
    },
    {
      "cell_type": "code",
      "metadata": {
        "colab": {
          "base_uri": "https://localhost:8080/"
        },
        "id": "clhqwWAVGwiU",
        "outputId": "b795a4d1-ba86-424d-d855-2a853a9c5b05"
      },
      "source": [
        "lb_make = LabelEncoder()\n",
        "y_train = lb_make.fit_transform(y_train)\n",
        "print(y_train.shape)"
      ],
      "execution_count": 346,
      "outputs": [
        {
          "output_type": "stream",
          "text": [
            "(527,)\n"
          ],
          "name": "stdout"
        }
      ]
    },
    {
      "cell_type": "code",
      "metadata": {
        "colab": {
          "base_uri": "https://localhost:8080/"
        },
        "id": "aGsnv_E_LP1K",
        "outputId": "6b5185fa-fbee-4342-85d1-77288c7d20ff"
      },
      "source": [
        "y_test = lb_make.fit_transform(y_test)\n",
        "print(y_test.shape)"
      ],
      "execution_count": 347,
      "outputs": [
        {
          "output_type": "stream",
          "text": [
            "(176,)\n"
          ],
          "name": "stdout"
        }
      ]
    },
    {
      "cell_type": "code",
      "metadata": {
        "id": "805TFi9nLa37"
      },
      "source": [
        "# Feature Extraction\n",
        "vectorizer = TfidfVectorizer()\n",
        "vectorizer.fit(X_train)\n",
        "\n",
        "X_train = vectorizer.transform(X_train).toarray()\n",
        "X_test = vectorizer.transform(X_test).toarray()"
      ],
      "execution_count": 348,
      "outputs": []
    },
    {
      "cell_type": "code",
      "metadata": {
        "id": "CpdwVrc_LyKA"
      },
      "source": [
        "# Modeling Random Forest\n",
        "rf = RandomForestClassifier(n_estimators=100, random_state=0)\n",
        "rf.fit(X_train, y_train)\n",
        "\n",
        "# Predict to Test Data\n",
        "y_pred_rf= rf.predict(X_test)"
      ],
      "execution_count": 349,
      "outputs": []
    },
    {
      "cell_type": "code",
      "metadata": {
        "colab": {
          "base_uri": "https://localhost:8080/",
          "height": 337
        },
        "id": "9XaghF2WL7_E",
        "outputId": "146ce279-c41b-4a37-fbca-ea52c77cc5d8"
      },
      "source": [
        "# Show the Confussion Matrix\n",
        "cm1 = metrics.confusion_matrix(y_test, y_pred_rf)\n",
        "plot_confusion_matrix(cm1, figsize=(5,5))\n",
        "plt.show()"
      ],
      "execution_count": 350,
      "outputs": [
        {
          "output_type": "display_data",
          "data": {
            "image/png": "[encoded data removed]",
            "text/plain": [
              "<Figure size 360x360 with 1 Axes>"
            ]
          },
          "metadata": {
            "tags": [],
            "needs_background": "light"
          }
        }
      ]
    },
    {
      "cell_type": "code",
      "metadata": {
        "colab": {
          "base_uri": "https://localhost:8080/"
        },
        "id": "6BGgZrfBL9v4",
        "outputId": "58dcb300-1033-43fa-f6e2-b16fc30f1347"
      },
      "source": [
        "# Print Classification Report\n",
        "print(classification_report(y_test, y_pred_rf))"
      ],
      "execution_count": 351,
      "outputs": [
        {
          "output_type": "stream",
          "text": [
            "              precision    recall  f1-score   support\n",
            "\n",
            "           0       0.88      0.70      0.78        60\n",
            "           1       0.86      0.95      0.90       116\n",
            "\n",
            "    accuracy                           0.86       176\n",
            "   macro avg       0.87      0.82      0.84       176\n",
            "weighted avg       0.86      0.86      0.86       176\n",
            "\n"
          ],
          "name": "stdout"
        }
      ]
    },
    {
      "cell_type": "code",
      "metadata": {
        "colab": {
          "base_uri": "https://localhost:8080/"
        },
        "id": "DQEe8_paMBJk",
        "outputId": "49ae1564-0410-47eb-bb8a-5ad7e4e398c2"
      },
      "source": [
        "# Show the Accuracy, Precision, Recall\n",
        "acc_rf = metrics.accuracy_score(y_test, y_pred_rf)\n",
        "prec_rf = metrics.precision_score(y_test, y_pred_rf)\n",
        "rec_rf = metrics.recall_score(y_test, y_pred_rf)\n",
        "f1_rf = metrics.f1_score(y_test, y_pred_rf)\n",
        "kappa_rf = metrics.cohen_kappa_score(y_test, y_pred_rf)\n",
        "\n",
        "print(\"Accuracy:\", acc_rf)\n",
        "print(\"Precision:\", prec_rf)\n",
        "print(\"Recall:\", rec_rf)\n",
        "print(\"F1 Score:\", f1_rf)\n",
        "print(\"Cohens Kappa Score:\", kappa_rf)"
      ],
      "execution_count": 352,
      "outputs": [
        {
          "output_type": "stream",
          "text": [
            "Accuracy: 0.8636363636363636\n",
            "Precision: 0.859375\n",
            "Recall: 0.9482758620689655\n",
            "F1 Score: 0.9016393442622951\n",
            "Cohens Kappa Score: 0.681159420289855\n"
          ],
          "name": "stdout"
        }
      ]
    },
    {
      "cell_type": "code",
      "metadata": {
        "colab": {
          "base_uri": "https://localhost:8080/",
          "height": 298
        },
        "id": "T8NT99vHMC4e",
        "outputId": "7f730ed6-83f7-4535-c19f-7f143cfed66a"
      },
      "source": [
        "# ROC Curve\n",
        "y_pred_rf_proba = rf.predict_proba(X_test)[::,1]\n",
        "fprrf, tprrf, _ = metrics.roc_curve(y_test,  y_pred_rf_proba)\n",
        "aucrf = metrics.roc_auc_score(y_test, y_pred_rf_proba)\n",
        "plt.plot(fprrf,tprrf,label=\"Random Forest, auc=\"+str(aucrf))\n",
        "plt.title('ROC Curve - Random Forest')\n",
        "plt.xlabel('false positive rate') \n",
        "plt.ylabel('true positive rate')\n",
        "plt.legend(loc=4)\n",
        "plt.show()"
      ],
      "execution_count": 353,
      "outputs": [
        {
          "output_type": "display_data",
          "data": {
            "image/png": "[encoded data removed]",
            "text/plain": [
              "<Figure size 432x288 with 1 Axes>"
            ]
          },
          "metadata": {
            "tags": [],
            "needs_background": "light"
          }
        }
      ]
    },
    {
      "cell_type": "code",
      "metadata": {
        "id": "9pO_v_fkMGTY"
      },
      "source": [
        "# Modeling Naive Bayes\n",
        "gnb = GaussianNB()\n",
        "gnb.fit(X_train, y_train)\n",
        "\n",
        "# Predict to Test Data\n",
        "y_pred_gnb= gnb.predict(X_test)"
      ],
      "execution_count": 354,
      "outputs": []
    },
    {
      "cell_type": "code",
      "metadata": {
        "colab": {
          "base_uri": "https://localhost:8080/",
          "height": 337
        },
        "id": "Us9IcI4yMRjx",
        "outputId": "df2552b8-6348-4411-f1e5-52781daef931"
      },
      "source": [
        "# Show the Confussion Matrix\n",
        "cm1 = metrics.confusion_matrix(y_test, y_pred_gnb)\n",
        "plot_confusion_matrix(cm1, figsize=(5,5))\n",
        "plt.show()"
      ],
      "execution_count": 355,
      "outputs": [
        {
          "output_type": "display_data",
          "data": {
            "image/png": "[encoded data removed]",
            "text/plain": [
              "<Figure size 360x360 with 1 Axes>"
            ]
          },
          "metadata": {
            "tags": [],
            "needs_background": "light"
          }
        }
      ]
    },
    {
      "cell_type": "code",
      "metadata": {
        "colab": {
          "base_uri": "https://localhost:8080/"
        },
        "id": "OAt98wEzMRjy",
        "outputId": "931a37e0-f12d-49f2-ab4a-cc48a0c0caa3"
      },
      "source": [
        "# Print Classification Report\n",
        "print(classification_report(y_test, y_pred_gnb))"
      ],
      "execution_count": 356,
      "outputs": [
        {
          "output_type": "stream",
          "text": [
            "              precision    recall  f1-score   support\n",
            "\n",
            "           0       0.55      0.70      0.61        60\n",
            "           1       0.82      0.70      0.75       116\n",
            "\n",
            "    accuracy                           0.70       176\n",
            "   macro avg       0.68      0.70      0.68       176\n",
            "weighted avg       0.73      0.70      0.71       176\n",
            "\n"
          ],
          "name": "stdout"
        }
      ]
    },
    {
      "cell_type": "code",
      "metadata": {
        "colab": {
          "base_uri": "https://localhost:8080/"
        },
        "id": "UqRhxhwHMRjy",
        "outputId": "0b7a6041-41ee-4521-bc88-eee5d10b543b"
      },
      "source": [
        "# Show the Accuracy, Precision, Recall\n",
        "acc_gnb = metrics.accuracy_score(y_test, y_pred_gnb)\n",
        "prec_gnb = metrics.precision_score(y_test, y_pred_gnb)\n",
        "rec_gnb = metrics.recall_score(y_test, y_pred_gnb)\n",
        "f1_gnb = metrics.f1_score(y_test, y_pred_gnb)\n",
        "kappa_gnb = metrics.cohen_kappa_score(y_test, y_pred_gnb)\n",
        "\n",
        "print(\"Accuracy:\", acc_gnb)\n",
        "print(\"Precision:\", prec_gnb)\n",
        "print(\"Recall:\", rec_gnb)\n",
        "print(\"F1 Score:\", f1_gnb)\n",
        "print(\"Cohens Kappa Score:\", kappa_gnb)"
      ],
      "execution_count": 357,
      "outputs": [
        {
          "output_type": "stream",
          "text": [
            "Accuracy: 0.6988636363636364\n",
            "Precision: 0.8181818181818182\n",
            "Recall: 0.6982758620689655\n",
            "F1 Score: 0.7534883720930233\n",
            "Cohens Kappa Score: 0.3727810650887574\n"
          ],
          "name": "stdout"
        }
      ]
    },
    {
      "cell_type": "code",
      "metadata": {
        "colab": {
          "base_uri": "https://localhost:8080/",
          "height": 298
        },
        "id": "cJiwM-AGMRjz",
        "outputId": "8f354481-8c0e-4e2b-a260-d91727c41c81"
      },
      "source": [
        "# ROC Curve\n",
        "y_pred_gnb_proba = gnb.predict_proba(X_test)[::,1]\n",
        "fprgnb, tprgnb, _ = metrics.roc_curve(y_test,  y_pred_gnb_proba)\n",
        "aucgnb = metrics.roc_auc_score(y_test, y_pred_gnb_proba)\n",
        "plt.plot(fprgnb,tprgnb,label=\"Naive Bayes, auc=\"+str(aucgnb))\n",
        "plt.title('ROC Curve - Naive Bayes')\n",
        "plt.xlabel('false positive rate') \n",
        "plt.ylabel('true positive rate')\n",
        "plt.legend(loc=4)\n",
        "plt.show()"
      ],
      "execution_count": 358,
      "outputs": [
        {
          "output_type": "display_data",
          "data": {
            "image/png": "[encoded data removed]",
            "text/plain": [
              "<Figure size 432x288 with 1 Axes>"
            ]
          },
          "metadata": {
            "tags": [],
            "needs_background": "light"
          }
        }
      ]
    },
    {
      "cell_type": "code",
      "metadata": {
        "id": "dD8L5tb8NZLm"
      },
      "source": [
        "svm = SVC(kernel='rbf', probability=True)\n",
        "svm.fit(X_train, y_train)\n",
        "y_pred_svm = svm.predict(X_test)\n",
        "# y_pred_svm"
      ],
      "execution_count": 359,
      "outputs": []
    },
    {
      "cell_type": "code",
      "metadata": {
        "colab": {
          "base_uri": "https://localhost:8080/"
        },
        "id": "xCrbN48-N183",
        "outputId": "3c74abfe-9f8a-4162-81fa-f5529d4d6111"
      },
      "source": [
        "# Show the Accuracy, Precision, Recall\n",
        "acc_svm = metrics.accuracy_score(y_test, y_pred_svm)\n",
        "prec_svm = metrics.precision_score(y_test, y_pred_svm)\n",
        "rec_svm = metrics.recall_score(y_test, y_pred_svm)\n",
        "f1_svm = metrics.f1_score(y_test, y_pred_svm)\n",
        "kappa_svm = metrics.cohen_kappa_score(y_test, y_pred_svm)\n",
        "\n",
        "print(\"Accuracy:\", acc_svm)\n",
        "print(\"Precision:\", prec_svm)\n",
        "print(\"Recall:\", rec_svm)\n",
        "print(\"F1 Score:\", f1_svm)\n",
        "print(\"Cohens Kappa Score:\", kappa_svm)"
      ],
      "execution_count": 360,
      "outputs": [
        {
          "output_type": "stream",
          "text": [
            "Accuracy: 0.8636363636363636\n",
            "Precision: 0.8538461538461538\n",
            "Recall: 0.9568965517241379\n",
            "F1 Score: 0.9024390243902438\n",
            "Cohens Kappa Score: 0.6784409257003654\n"
          ],
          "name": "stdout"
        }
      ]
    },
    {
      "cell_type": "code",
      "metadata": {
        "colab": {
          "base_uri": "https://localhost:8080/",
          "height": 298
        },
        "id": "AG4L_0W7N183",
        "outputId": "8ca574ba-ea3a-42ba-ed87-8d0713b48f80"
      },
      "source": [
        "# ROC Curve\n",
        "y_pred_svm_proba = svm.predict_proba(X_test)[::,1]\n",
        "fprsvm, tprsvm, _ = metrics.roc_curve(y_test,  y_pred_svm_proba)\n",
        "aucsvm = metrics.roc_auc_score(y_test, y_pred_svm_proba)\n",
        "plt.plot(fprsvm,tprsvm,label=\"SVM, auc=\"+str(aucsvm))\n",
        "plt.title('ROC Curve - SVM')\n",
        "plt.xlabel('false positive rate') \n",
        "plt.ylabel('true positive rate')\n",
        "plt.legend(loc=4)\n",
        "plt.show()"
      ],
      "execution_count": 361,
      "outputs": [
        {
          "output_type": "display_data",
          "data": {
            "image/png": "[encoded data removed]",
            "text/plain": [
              "<Figure size 432x288 with 1 Axes>"
            ]
          },
          "metadata": {
            "tags": [],
            "needs_background": "light"
          }
        }
      ]
    },
    {
      "cell_type": "code",
      "metadata": {
        "id": "kekZvwQxOLQb"
      },
      "source": [
        "# Modeling KNN\n",
        "knn = KNeighborsClassifier(n_neighbors=7)\n",
        "knn.fit(X_train, y_train)\n",
        "\n",
        "# Predict to Test Data\n",
        "y_pred_knn= knn.predict(X_test)"
      ],
      "execution_count": 362,
      "outputs": []
    },
    {
      "cell_type": "code",
      "metadata": {
        "colab": {
          "base_uri": "https://localhost:8080/",
          "height": 337
        },
        "id": "YluO84ElOTOG",
        "outputId": "758851e7-b246-46f9-9292-fb08b801664b"
      },
      "source": [
        "# Show the Confussion Matrix\n",
        "cm2 = metrics.confusion_matrix(y_test, y_pred_knn)\n",
        "plot_confusion_matrix(cm2, figsize=(5,5))\n",
        "plt.show()"
      ],
      "execution_count": 363,
      "outputs": [
        {
          "output_type": "display_data",
          "data": {
            "image/png": "[encoded data removed]",
            "text/plain": [
              "<Figure size 360x360 with 1 Axes>"
            ]
          },
          "metadata": {
            "tags": [],
            "needs_background": "light"
          }
        }
      ]
    },
    {
      "cell_type": "code",
      "metadata": {
        "colab": {
          "base_uri": "https://localhost:8080/"
        },
        "id": "niUYe1Y9OUnB",
        "outputId": "2045ff80-eccc-4817-8eca-4222c50ff4cd"
      },
      "source": [
        "# Print Classification Report\n",
        "print(classification_report(y_test, y_pred_knn))"
      ],
      "execution_count": 364,
      "outputs": [
        {
          "output_type": "stream",
          "text": [
            "              precision    recall  f1-score   support\n",
            "\n",
            "           0       0.71      0.75      0.73        60\n",
            "           1       0.87      0.84      0.86       116\n",
            "\n",
            "    accuracy                           0.81       176\n",
            "   macro avg       0.79      0.80      0.79       176\n",
            "weighted avg       0.82      0.81      0.81       176\n",
            "\n"
          ],
          "name": "stdout"
        }
      ]
    },
    {
      "cell_type": "code",
      "metadata": {
        "colab": {
          "base_uri": "https://localhost:8080/"
        },
        "id": "pkG5bhOUOWND",
        "outputId": "b5786f3e-b09a-4a64-9d52-38da464df464"
      },
      "source": [
        "# Show the Accuracy, Precision, Recall\n",
        "acc_knn = metrics.accuracy_score(y_test, y_pred_knn)\n",
        "prec_knn = metrics.precision_score(y_test, y_pred_knn)\n",
        "rec_knn = metrics.recall_score(y_test, y_pred_knn)\n",
        "f1_knn = metrics.f1_score(y_test, y_pred_knn)\n",
        "kappa_knn = metrics.cohen_kappa_score(y_test, y_pred_knn)\n",
        "\n",
        "print(\"Accuracy:\", acc_knn)\n",
        "print(\"Precision:\", prec_knn)\n",
        "print(\"Recall:\", rec_knn)\n",
        "print(\"F1 Score:\", f1_knn)\n",
        "print(\"Cohens Kappa Score:\", kappa_knn)"
      ],
      "execution_count": 365,
      "outputs": [
        {
          "output_type": "stream",
          "text": [
            "Accuracy: 0.8125\n",
            "Precision: 0.8672566371681416\n",
            "Recall: 0.8448275862068966\n",
            "F1 Score: 0.8558951965065502\n",
            "Cohens Kappa Score: 0.5877342419080068\n"
          ],
          "name": "stdout"
        }
      ]
    },
    {
      "cell_type": "code",
      "metadata": {
        "colab": {
          "base_uri": "https://localhost:8080/",
          "height": 298
        },
        "id": "Wczsi7RqOX3T",
        "outputId": "29cc9a34-2fdf-47ba-a63f-e27c5b53cf97"
      },
      "source": [
        "# ROC Curve\n",
        "y_pred_knn_proba = knn.predict_proba(X_test)[::,1]\n",
        "fprknn, tprknn, _ = metrics.roc_curve(y_test,  y_pred_knn_proba)\n",
        "aucknn = metrics.roc_auc_score(y_test, y_pred_knn_proba)\n",
        "plt.plot(fprknn,tprknn,label=\"KNN, auc=\"+str(aucknn))\n",
        "plt.title('ROC Curve - KNN')\n",
        "plt.xlabel('false positive rate') \n",
        "plt.ylabel('true positive rate')\n",
        "plt.legend(loc=4)\n",
        "plt.show()"
      ],
      "execution_count": 366,
      "outputs": [
        {
          "output_type": "display_data",
          "data": {
            "image/png": "[encoded data removed]",
            "text/plain": [
              "<Figure size 432x288 with 1 Axes>"
            ]
          },
          "metadata": {
            "tags": [],
            "needs_background": "light"
          }
        }
      ]
    },
    {
      "cell_type": "code",
      "metadata": {
        "colab": {
          "base_uri": "https://localhost:8080/"
        },
        "id": "BNfawUsnOaHr",
        "outputId": "ac17aa06-6c48-4485-a48f-e5acd3c1dc2d"
      },
      "source": [
        "\n",
        "# Comparing Model Performance\n",
        "print(\"Random Forest Accuracy =\", acc_rf)\n",
        "print(\"Random Forest Precision =\", prec_rf)\n",
        "print(\"Random Forest Recall =\", rec_rf)\n",
        "print(\"Random Forest F1-Score =\", f1_rf)\n",
        "print(\"_______________________\")\n",
        "print(\"Naive Bayes Accuracy =\", acc_gnb)\n",
        "print(\"Naive Bayes Precision =\", prec_gnb)\n",
        "print(\"Naive Bayes Recall =\", rec_gnb)\n",
        "print(\"Naive Bayes F1-Score =\", f1_gnb)\n",
        "print(\"_______________________\")\n",
        "print(\"SVM Accuracy =\", acc_svm)\n",
        "print(\"SVM Precision =\", prec_svm)\n",
        "print(\"SVM Recall =\", rec_svm)\n",
        "print(\"SVM F1-Score =\", f1_svm)\n",
        "print(\"_______________________\")\n",
        "print(\"KNN Accuracy =\", acc_knn)\n",
        "print(\"KNN Precision =\", prec_knn)\n",
        "print(\"KNN Recall =\", rec_knn)\n",
        "print(\"KNN F1-Score =\", f1_knn)"
      ],
      "execution_count": 367,
      "outputs": [
        {
          "output_type": "stream",
          "text": [
            "Random Forest Accuracy = 0.8636363636363636\n",
            "Random Forest Precision = 0.859375\n",
            "Random Forest Recall = 0.9482758620689655\n",
            "Random Forest F1-Score = 0.9016393442622951\n",
            "_______________________\n",
            "Naive Bayes Accuracy = 0.6988636363636364\n",
            "Naive Bayes Precision = 0.8181818181818182\n",
            "Naive Bayes Recall = 0.6982758620689655\n",
            "Naive Bayes F1-Score = 0.7534883720930233\n",
            "_______________________\n",
            "SVM Accuracy = 0.8636363636363636\n",
            "SVM Precision = 0.8538461538461538\n",
            "SVM Recall = 0.9568965517241379\n",
            "SVM F1-Score = 0.9024390243902438\n",
            "_______________________\n",
            "KNN Accuracy = 0.8125\n",
            "KNN Precision = 0.8672566371681416\n",
            "KNN Recall = 0.8448275862068966\n",
            "KNN F1-Score = 0.8558951965065502\n"
          ],
          "name": "stdout"
        }
      ]
    },
    {
      "cell_type": "code",
      "metadata": {
        "colab": {
          "base_uri": "https://localhost:8080/",
          "height": 298
        },
        "id": "LKCpbDqqOnZ6",
        "outputId": "6a565493-d121-4bcf-d3d8-d1c40ab0a6b6"
      },
      "source": [
        "# Comparing ROC Curve\n",
        "plt.plot(fprrf,tprrf,label=\"Random Forest, auc=\"+str(aucrf))\n",
        "plt.plot(fprgnb,tprgnb,label=\"Naive Bayes, auc=\"+str(aucgnb))\n",
        "plt.plot(fprsvm,tprsvm,label=\"SVM, auc=\"+str(aucknn))\n",
        "plt.plot(fprknn,tprknn,label=\"KNN, auc=\"+str(aucknn))\n",
        "plt.title('ROC Curve')\n",
        "plt.xlabel('False Positive Rate')\n",
        "plt.ylabel('True Positive Rate')\n",
        "plt.legend(loc=4)\n",
        "plt.show()"
      ],
      "execution_count": 368,
      "outputs": [
        {
          "output_type": "display_data",
          "data": {
            "image/png": "[encoded data removed]",
            "text/plain": [
              "<Figure size 432x288 with 1 Axes>"
            ]
          },
          "metadata": {
            "tags": [],
            "needs_background": "light"
          }
        }
      ]
    },
    {
      "cell_type": "code",
      "metadata": {
        "id": "OAEBqFgaO-kp"
      },
      "source": [
        ""
      ],
      "execution_count": 368,
      "outputs": []
    }
  ]
}